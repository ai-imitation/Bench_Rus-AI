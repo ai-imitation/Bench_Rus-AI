{
 "cells": [
  {
   "cell_type": "markdown",
   "id": "ca513de2",
   "metadata": {},
   "source": [
    "# sources"
   ]
  },
  {
   "cell_type": "markdown",
   "id": "ed7d1084",
   "metadata": {},
   "source": [
    "## alpaca"
   ]
  },
  {
   "cell_type": "code",
   "execution_count": null,
   "id": "e24d029f",
   "metadata": {},
   "outputs": [],
   "source": [
    "!mkdir -p data/sources/alpaca\n",
    "!curl -L https://github.com/yizhongw/self-instruct/raw/main/human_eval/user_oriented_instructions.jsonl \\\n",
    "    > data/sources/alpaca/user_oriented_instructions.jsonl"
   ]
  },
  {
   "cell_type": "code",
   "execution_count": 99,
   "id": "6edb6387",
   "metadata": {},
   "outputs": [
    {
     "data": {
      "text/plain": [
       "[{'id': '7610be0f-8237-4035-96a8-5820219d619e',\n",
       "  'source': 'alpaca',\n",
       "  'source_id': 'user_oriented_task_224',\n",
       "  'instruction': 'Convert natural language into a list of turn-by-turn directions.\\n\\n\"Go west on I-10 until you hit the 101 then take it north. You will eventually see the Hollywood sign.\"'},\n",
       " {'id': 'a58bfb9a-4f0d-4330-8154-4afd17d573c6',\n",
       "  'source': 'alpaca',\n",
       "  'source_id': 'user_oriented_task_238',\n",
       "  'instruction': 'Categorize the given product into one of Electronics, Computers, Smart Home, or Arts & Crafts departments.\\n\\n\"Google Nest Learning Thermostat\"'},\n",
       " {'id': '63ce006e-7056-46cd-842b-3615c2d8317b',\n",
       "  'source': 'alpaca',\n",
       "  'source_id': 'user_oriented_task_104',\n",
       "  'instruction': 'List the personality traits that are required to be successful in the given job.\\n\\n\"Social Media Marketer\"'}]"
      ]
     },
     "execution_count": 99,
     "metadata": {},
     "output_type": "execute_result"
    }
   ],
   "source": [
    "%run -n main.py\n",
    "items = read_jsonl('data/sources/alpaca/user_oriented_instructions.jsonl')\n",
    "alpaca_items = list(parse_alpaca(items))\n",
    "random.sample(alpaca_items, 3)"
   ]
  },
  {
   "cell_type": "markdown",
   "id": "759d6322",
   "metadata": {},
   "source": [
    "## vicuna"
   ]
  },
  {
   "cell_type": "code",
   "execution_count": null,
   "id": "11f3dd21",
   "metadata": {},
   "outputs": [],
   "source": [
    "!mkdir -p data/sources/vicuna\n",
    "!curl -L https://github.com/lm-sys/vicuna-blog-eval/raw/main/eval/table/question.jsonl \\\n",
    "    > data/sources/vicuna/question.jsonl"
   ]
  },
  {
   "cell_type": "code",
   "execution_count": 100,
   "id": "1f85ab15",
   "metadata": {},
   "outputs": [
    {
     "data": {
      "text/plain": [
       "[{'id': '2aea7930-c299-4be5-aad4-048d669c231d',\n",
       "  'source': 'vicuna',\n",
       "  'source_id': 53,\n",
       "  'category': 'counterfactual',\n",
       "  'instruction': 'What if the Black Death had not occurred in the 14th century?'},\n",
       " {'id': '5b49aa61-1300-495a-ac10-1d88a3186939',\n",
       "  'source': 'vicuna',\n",
       "  'source_id': 73,\n",
       "  'category': 'writing',\n",
       "  'instruction': 'Use an appropriate format to structure a formal letter of recommendation for a student applying to a prestigious graduate program in computer science.'},\n",
       " {'id': '7c08ea72-8c64-4b93-9bde-445f20dbe3b1',\n",
       "  'source': 'vicuna',\n",
       "  'source_id': 57,\n",
       "  'category': 'counterfactual',\n",
       "  'instruction': 'What if the Suez Canal had never been constructed?'}]"
      ]
     },
     "execution_count": 100,
     "metadata": {},
     "output_type": "execute_result"
    }
   ],
   "source": [
    "%run -n main.py\n",
    "items = read_jsonl('data/sources/vicuna/question.jsonl')\n",
    "vicuna_items = list(parse_vicuna(items))\n",
    "random.sample(vicuna_items, 3)"
   ]
  },
  {
   "cell_type": "markdown",
   "id": "19149773",
   "metadata": {},
   "source": [
    "## arena"
   ]
  },
  {
   "cell_type": "code",
   "execution_count": null,
   "id": "2f2552dc",
   "metadata": {},
   "outputs": [],
   "source": [
    "!mkdir -p data/sources/arena\n",
    "!curl -L curl -L https://huggingface.co/datasets/lmsys/chatbot_arena_conversations/resolve/main/data/train-00000-of-00001-cced8514c7ed782a.parquet \\\n",
    "    > data/sources/arena/train-00000-of-00001-cced8514c7ed782a.parquet"
   ]
  },
  {
   "cell_type": "code",
   "execution_count": 101,
   "id": "9c5de7bb",
   "metadata": {},
   "outputs": [
    {
     "data": {
      "text/plain": [
       "[{'id': '0581e7f7-8d1a-4752-bb31-98812c0a3219',\n",
       "  'source': 'arena',\n",
       "  'source_id': 'b0432b57c2294f3296e89526b739b0e5',\n",
       "  'lang': 'English',\n",
       "  'instruction': 'tell me story synopsis of moble suit gundam'},\n",
       " {'id': '4c591123-3a12-43e6-897c-bbc2dff0d131',\n",
       "  'source': 'arena',\n",
       "  'source_id': '363a3fa4b50c48ba91c8dce9995caca4',\n",
       "  'lang': 'English',\n",
       "  'instruction': \"To create a simple notation for representing types of dice rolls, we can use abbreviations, numbers, and operators to clearly convey the steps needed. Here is a notation system:\\n\\n1. Use 'R' to represent 'roll'.\\n2. Numbers preceding 'd' represent the number of dice to roll.\\n3. Numbers following 'd' represent the type of dice (e.g., d6 for a six-sided die).\\n4. Use 'D' followed by a number to represent 'drop' and specify the number of dice to drop.\\n5. Use 'L' or 'H' after the drop command to specify if you're dropping the lowest or highest rolls.\\n6. Use '+' to indicate summing the remaining dice.\\n\\nUsing this notation, here are some examples:\\n\\n1. Roll 4d6, drop the lowest, and sum the remainder: R4d6D1L+\\n2. Roll 6d6, drop the two highest, roll 2d4, drop the lowest, and then add the remaining dice: R6d6D2H+R2d4D1L+\\n\\nCreate additional examples\"},\n",
       " {'id': '8dfe78b9-2fc4-4e1d-8ac4-2f1448118ce9',\n",
       "  'source': 'arena',\n",
       "  'source_id': '33f656f966ef4642a23cb2f3443aeb11',\n",
       "  'lang': 'English',\n",
       "  'instruction': 'If you had 1000 USD to spare, what would you choose to buy between Bitcoin and Ethereum?'}]"
      ]
     },
     "execution_count": 101,
     "metadata": {},
     "output_type": "execute_result"
    }
   ],
   "source": [
    "%run -n main.py\n",
    "records = pd.read_parquet('data/sources/arena/train-00000-of-00001-cced8514c7ed782a.parquet').itertuples()\n",
    "instruction_items = {\n",
    "    _['instruction']: _\n",
    "    for _ in parse_arena(records)\n",
    "    if _['lang'] == 'English'\n",
    "}\n",
    "arena_items = list(instruction_items.values())\n",
    "random.sample(arena_items, 3)"
   ]
  },
  {
   "cell_type": "markdown",
   "id": "ce2d1bfb",
   "metadata": {},
   "source": [
    "# translate"
   ]
  },
  {
   "cell_type": "code",
   "execution_count": 98,
   "id": "637645cc",
   "metadata": {},
   "outputs": [
    {
     "data": {
      "text/plain": [
       "'0dc748a8-ec42-44bb-b582-77636035c639'"
      ]
     },
     "execution_count": 98,
     "metadata": {},
     "output_type": "execute_result"
    }
   ],
   "source": [
    "import uuid\n",
    "\n",
    "str(uuid.uuid4())"
   ]
  },
  {
   "cell_type": "code",
   "execution_count": 37,
   "id": "89fe40d6",
   "metadata": {},
   "outputs": [],
   "source": [
    "import uu\n",
    "\n",
    "uu?"
   ]
  },
  {
   "cell_type": "code",
   "execution_count": null,
   "id": "ce61c261",
   "metadata": {},
   "outputs": [],
   "source": []
  }
 ],
 "metadata": {
  "kernelspec": {
   "display_name": "rulm-sbs2",
   "language": "python",
   "name": "rulm-sbs2"
  },
  "language_info": {
   "codemirror_mode": {
    "name": "ipython",
    "version": 3
   },
   "file_extension": ".py",
   "mimetype": "text/x-python",
   "name": "python",
   "nbconvert_exporter": "python",
   "pygments_lexer": "ipython3",
   "version": "3.10.8"
  }
 },
 "nbformat": 4,
 "nbformat_minor": 5
}
