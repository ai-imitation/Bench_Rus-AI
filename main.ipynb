{
 "cells": [
  {
   "cell_type": "code",
   "execution_count": 340,
   "id": "80e3fb19",
   "metadata": {},
   "outputs": [],
   "source": [
    "translate_items = []\n",
    "for item in task_items:\n",
    "    assert len(item['annotations']) == 1\n",
    "\n",
    "    translate_items.append({\n",
    "        'id': item['data']['id'],\n",
    "        'instruction': item['data']['instruction'],\n",
    "        'answer': item['annotations'][0]['result'][0]['value']['text'][0]\n",
    "    })"
   ]
  },
  {
   "cell_type": "code",
   "execution_count": 6,
   "id": "8355de6a",
   "metadata": {},
   "outputs": [],
   "source": [
    "%run -n main.py\n",
    "dotenv = dict(read_dotenv('.env'))\n",
    "openai.api_key = dotenv['OPENAI_TOKEN']\n",
    "label_studio_sdk.api_key = dotenv['LABELSTUDIO_TOKEN']"
   ]
  },
  {
   "cell_type": "markdown",
   "id": "d0724ed9",
   "metadata": {},
   "source": [
    "# sources"
   ]
  },
  {
   "cell_type": "markdown",
   "id": "5759046d",
   "metadata": {},
   "source": [
    "## alpaca"
   ]
  },
  {
   "cell_type": "code",
   "execution_count": null,
   "id": "61039747",
   "metadata": {},
   "outputs": [],
   "source": [
    "!mkdir -p data/sources/alpaca\n",
    "!curl -L https://github.com/yizhongw/self-instruct/raw/main/human_eval/user_oriented_instructions.jsonl \\\n",
    "    > data/sources/alpaca/user_oriented_instructions.jsonl"
   ]
  },
  {
   "cell_type": "code",
   "execution_count": 99,
   "id": "b40a248e",
   "metadata": {},
   "outputs": [
    {
     "data": {
      "text/plain": [
       "[{'id': '7610be0f-8237-4035-96a8-5820219d619e',\n",
       "  'source': 'alpaca',\n",
       "  'source_id': 'user_oriented_task_224',\n",
       "  'instruction': 'Convert natural language into a list of turn-by-turn directions.\\n\\n\"Go west on I-10 until you hit the 101 then take it north. You will eventually see the Hollywood sign.\"'},\n",
       " {'id': 'a58bfb9a-4f0d-4330-8154-4afd17d573c6',\n",
       "  'source': 'alpaca',\n",
       "  'source_id': 'user_oriented_task_238',\n",
       "  'instruction': 'Categorize the given product into one of Electronics, Computers, Smart Home, or Arts & Crafts departments.\\n\\n\"Google Nest Learning Thermostat\"'},\n",
       " {'id': '63ce006e-7056-46cd-842b-3615c2d8317b',\n",
       "  'source': 'alpaca',\n",
       "  'source_id': 'user_oriented_task_104',\n",
       "  'instruction': 'List the personality traits that are required to be successful in the given job.\\n\\n\"Social Media Marketer\"'}]"
      ]
     },
     "execution_count": 99,
     "metadata": {},
     "output_type": "execute_result"
    }
   ],
   "source": [
    "%run -n main.py\n",
    "items = read_jsonl('data/sources/alpaca/user_oriented_instructions.jsonl')\n",
    "alpaca_items = list(parse_alpaca(items))\n",
    "random.sample(alpaca_items, 3)"
   ]
  },
  {
   "cell_type": "markdown",
   "id": "87bd798f",
   "metadata": {},
   "source": [
    "## vicuna"
   ]
  },
  {
   "cell_type": "code",
   "execution_count": null,
   "id": "6e933183",
   "metadata": {},
   "outputs": [],
   "source": [
    "!mkdir -p data/sources/vicuna\n",
    "!curl -L https://github.com/lm-sys/vicuna-blog-eval/raw/main/eval/table/question.jsonl \\\n",
    "    > data/sources/vicuna/question.jsonl"
   ]
  },
  {
   "cell_type": "code",
   "execution_count": 100,
   "id": "71b1c601",
   "metadata": {},
   "outputs": [
    {
     "data": {
      "text/plain": [
       "[{'id': '2aea7930-c299-4be5-aad4-048d669c231d',\n",
       "  'source': 'vicuna',\n",
       "  'source_id': 53,\n",
       "  'category': 'counterfactual',\n",
       "  'instruction': 'What if the Black Death had not occurred in the 14th century?'},\n",
       " {'id': '5b49aa61-1300-495a-ac10-1d88a3186939',\n",
       "  'source': 'vicuna',\n",
       "  'source_id': 73,\n",
       "  'category': 'writing',\n",
       "  'instruction': 'Use an appropriate format to structure a formal letter of recommendation for a student applying to a prestigious graduate program in computer science.'},\n",
       " {'id': '7c08ea72-8c64-4b93-9bde-445f20dbe3b1',\n",
       "  'source': 'vicuna',\n",
       "  'source_id': 57,\n",
       "  'category': 'counterfactual',\n",
       "  'instruction': 'What if the Suez Canal had never been constructed?'}]"
      ]
     },
     "execution_count": 100,
     "metadata": {},
     "output_type": "execute_result"
    }
   ],
   "source": [
    "%run -n main.py\n",
    "items = read_jsonl('data/sources/vicuna/question.jsonl')\n",
    "vicuna_items = list(parse_vicuna(items))\n",
    "random.sample(vicuna_items, 3)"
   ]
  },
  {
   "cell_type": "markdown",
   "id": "2f3670a7",
   "metadata": {},
   "source": [
    "## arena"
   ]
  },
  {
   "cell_type": "code",
   "execution_count": null,
   "id": "4779363c",
   "metadata": {},
   "outputs": [],
   "source": [
    "!mkdir -p data/sources/arena\n",
    "!curl -L curl -L https://huggingface.co/datasets/lmsys/chatbot_arena_conversations/resolve/main/data/train-00000-of-00001-cced8514c7ed782a.parquet \\\n",
    "    > data/sources/arena/train-00000-of-00001-cced8514c7ed782a.parquet"
   ]
  },
  {
   "cell_type": "code",
   "execution_count": 115,
   "id": "8bfa4927",
   "metadata": {},
   "outputs": [
    {
     "data": {
      "text/plain": [
       "[{'id': 'd843ac4a-4b59-4b4f-bc3e-d6de101a7953',\n",
       "  'source': 'arena',\n",
       "  'source_id': '924c59203b4e4aeea5e627011da0b283',\n",
       "  'lang': 'English',\n",
       "  'instruction': 'what are hybrid text classification methods?'},\n",
       " {'id': '584f5fa3-37cc-44b4-bf28-dc2dd7e71682',\n",
       "  'source': 'arena',\n",
       "  'source_id': '37c2c4edb3b14e49b5920613d9b6befe',\n",
       "  'lang': 'English',\n",
       "  'instruction': 'What strains of cannabis have been reported by individuals with borderline personality disorder as preferable or effective in the management of their symptoms?'},\n",
       " {'id': 'bea19674-14cd-4996-a350-d68d2d0c0317',\n",
       "  'source': 'arena',\n",
       "  'source_id': '2005e97ef88246468f890495101550ea',\n",
       "  'lang': 'English',\n",
       "  'instruction': 'How big is the Eiffeltower?'}]"
      ]
     },
     "execution_count": 115,
     "metadata": {},
     "output_type": "execute_result"
    }
   ],
   "source": [
    "%run -n main.py\n",
    "records = pd.read_parquet('data/sources/arena/train-00000-of-00001-cced8514c7ed782a.parquet').itertuples()\n",
    "arena_items = list(parse_arena(records))\n",
    "random.sample(arena_items, 3)"
   ]
  },
  {
   "cell_type": "markdown",
   "id": "304329fe",
   "metadata": {},
   "source": [
    "# orig"
   ]
  },
  {
   "cell_type": "code",
   "execution_count": 116,
   "id": "014d4cc1",
   "metadata": {},
   "outputs": [],
   "source": [
    "!mkdir -p data/orig"
   ]
  },
  {
   "cell_type": "code",
   "execution_count": 117,
   "id": "8fa89a5f",
   "metadata": {},
   "outputs": [],
   "source": [
    "write_jsonl('data/orig/alpaca.jsonl', alpaca_items)\n",
    "write_jsonl('data/orig/vicuna.jsonl', vicuna_items)"
   ]
  },
  {
   "cell_type": "code",
   "execution_count": 122,
   "id": "83d97df6",
   "metadata": {},
   "outputs": [],
   "source": [
    "instruction_items = {\n",
    "    _['instruction']: _\n",
    "    for _ in arena_items\n",
    "    if _['lang'] == 'English'\n",
    "}\n",
    "items = random.sample(list(instruction_items.values()), 1000)\n",
    "write_jsonl('data/orig/arena.jsonl', items)"
   ]
  },
  {
   "cell_type": "code",
   "execution_count": 124,
   "id": "9a22e8b2",
   "metadata": {},
   "outputs": [],
   "source": [
    "alpaca_items = list(read_jsonl('data/orig/alpaca.jsonl'))\n",
    "vicuna_items = list(read_jsonl('data/orig/vicuna.jsonl'))\n",
    "arena_items = list(read_jsonl('data/orig/arena.jsonl'))"
   ]
  },
  {
   "cell_type": "markdown",
   "id": "f722f399",
   "metadata": {},
   "source": [
    "# translate"
   ]
  },
  {
   "cell_type": "code",
   "execution_count": 178,
   "id": "dd756bfd",
   "metadata": {},
   "outputs": [],
   "source": [
    "translate_items = [\n",
    "    {\n",
    "        'id': _['id'],\n",
    "        'instruction': _['instruction'],\n",
    "        'answer': None\n",
    "    }\n",
    "    for _ in vicuna_items\n",
    "]"
   ]
  },
  {
   "cell_type": "code",
   "execution_count": 175,
   "id": "3cbc0983",
   "metadata": {},
   "outputs": [
    {
     "name": "stderr",
     "output_type": "stream",
     "text": [
      "100%|██████████| 156/156 [01:07<00:00,  2.30it/s]\n"
     ]
    }
   ],
   "source": [
    "%run -n main.py\n",
    "items = [_ for _ in translate_items if not _['answer']]\n",
    "queue = iter(tqdm(items))\n",
    "workers = [openai_translate_worker(queue) for _ in range(10)]\n",
    "await asyncio.gather(*workers);"
   ]
  },
  {
   "cell_type": "code",
   "execution_count": 188,
   "id": "4475e160",
   "metadata": {},
   "outputs": [],
   "source": [
    "!mkdir -p data/translate\n",
    "write_jsonl('data/translate/vicuna.jsonl', translate_items)"
   ]
  },
  {
   "cell_type": "markdown",
   "id": "a51807b3",
   "metadata": {},
   "source": [
    "# manually edit translate"
   ]
  },
  {
   "cell_type": "code",
   "execution_count": 8,
   "id": "fc4fe974",
   "metadata": {
    "scrolled": true
   },
   "outputs": [
    {
     "data": {
      "text/plain": [
       "{'status': 'UP'}"
      ]
     },
     "execution_count": 8,
     "metadata": {},
     "output_type": "execute_result"
    }
   ],
   "source": [
    "%run -n main.py\n",
    "label_studio = label_studio_client()\n",
    "label_studio.check_connection()"
   ]
  },
  {
   "cell_type": "code",
   "execution_count": 30,
   "id": "a810eb46",
   "metadata": {},
   "outputs": [],
   "source": [
    "for project in label_studio.list_projects():\n",
    "    if project.title == 'edit translate':\n",
    "        break"
   ]
  },
  {
   "cell_type": "code",
   "execution_count": null,
   "id": "5702fbab",
   "metadata": {},
   "outputs": [],
   "source": [
    "input('you sure?')\n",
    "project.delete_all_tasks();"
   ]
  },
  {
   "cell_type": "code",
   "execution_count": 17,
   "id": "82ee2cb6",
   "metadata": {},
   "outputs": [
    {
     "data": {
      "text/plain": [
       "{'data': {'id': '5d17ae75-363e-4e13-b745-29eeba89461c',\n",
       "  'instruction': 'There is Person who have following skills :-  Python, C++. OpenCV, Machine Learning, Machine Learning frameworks, Good understanding of Mathematics, Data Analysis  can you suggest several jobs which are suitable for him?'},\n",
       " 'predictions': [{'result': [{'from_name': 'answer',\n",
       "     'to_name': 'instruction',\n",
       "     'type': 'textarea',\n",
       "     'value': {'text': ['Есть человек, который владеет следующими навыками: Python, C++, OpenCV, Машинное обучение, Фреймворки машинного обучения, хорошее понимание математики, анализ данных. \\n\\nМожешь предложить несколько подходящих для него вакансий?']}}]}]}"
      ]
     },
     "execution_count": 17,
     "metadata": {},
     "output_type": "execute_result"
    }
   ],
   "source": [
    "translate_items = read_jsonl('data/translate/arena.jsonl')\n",
    "task_items = [translate_item_task_item(_) for _ in translate_items]\n",
    "random.choice(task_items)"
   ]
  },
  {
   "cell_type": "code",
   "execution_count": 21,
   "id": "0af10d1f",
   "metadata": {},
   "outputs": [],
   "source": [
    "project.import_tasks(task_items);"
   ]
  },
  {
   "cell_type": "code",
   "execution_count": 27,
   "id": "fb37b3ba",
   "metadata": {},
   "outputs": [
    {
     "data": {
      "text/plain": [
       "[{'id': '20496e66-cfbe-4237-b2f0-0f5e93e5588a',\n",
       "  'instruction': 'What is the distance in km between Sydney and Lagos?',\n",
       "  'answer': 'Каково расстояние в километрах между Сиднеем и Лагосом?'},\n",
       " {'id': '5ab615f9-0183-487d-aad2-064d02fbf6c3',\n",
       "  'instruction': 'What is the average Ph of a soft drink:',\n",
       "  'answer': 'Каково среднее значение pH газировки?'},\n",
       " {'id': '275458f1-13bd-41aa-a980-75eea737a26e',\n",
       "  'instruction': 'Are capable of converting Rust code into python script ?',\n",
       "  'answer': 'Ты умеешь преобразовывать код на Rust в скрипт на Python?'}]"
      ]
     },
     "execution_count": 27,
     "metadata": {},
     "output_type": "execute_result"
    }
   ],
   "source": [
    "task_items = project.export_tasks()\n",
    "translate_items = [task_item_translate_item(_) for _ in task_items]\n",
    "random.sample(translate_items, 3)"
   ]
  },
  {
   "cell_type": "code",
   "execution_count": null,
   "id": "e14e7037",
   "metadata": {},
   "outputs": [],
   "source": [
    "write_jsonl('data/translate/arena.jsonl', translate_items)"
   ]
  }
 ],
 "metadata": {
  "kernelspec": {
   "display_name": "rulm-sbs2",
   "language": "python",
   "name": "rulm-sbs2"
  },
  "language_info": {
   "codemirror_mode": {
    "name": "ipython",
    "version": 3
   },
   "file_extension": ".py",
   "mimetype": "text/x-python",
   "name": "python",
   "nbconvert_exporter": "python",
   "pygments_lexer": "ipython3",
   "version": "3.10.8"
  }
 },
 "nbformat": 4,
 "nbformat_minor": 5
}
