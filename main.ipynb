{
 "cells": [
  {
   "cell_type": "code",
   "execution_count": 208,
   "id": "4ac82004",
   "metadata": {},
   "outputs": [],
   "source": [
    "%config InlineBackend.figure_format = 'retina' "
   ]
  },
  {
   "cell_type": "code",
   "execution_count": 61,
   "id": "ca94b2c7",
   "metadata": {},
   "outputs": [],
   "source": [
    "%run -n main.py\n",
    "dotenv = dict(read_dotenv('.env'))\n",
    "openai.api_key = dotenv['OPENAI_TOKEN']"
   ]
  },
  {
   "cell_type": "markdown",
   "id": "77d6a14f",
   "metadata": {},
   "source": [
    "# label studio"
   ]
  },
  {
   "cell_type": "code",
   "execution_count": 85,
   "id": "af7cfc03",
   "metadata": {},
   "outputs": [
    {
     "data": {
      "text/plain": [
       "{'status': 'UP'}"
      ]
     },
     "execution_count": 85,
     "metadata": {},
     "output_type": "execute_result"
    }
   ],
   "source": [
    "%run -n main.py\n",
    "label_client = label_studio_sdk.Client('http://localhost:8080', dotenv['LABELSTUDIO_TOKEN'])\n",
    "label_client.check_connection()"
   ]
  },
  {
   "cell_type": "code",
   "execution_count": 86,
   "id": "6e94b8d5",
   "metadata": {},
   "outputs": [],
   "source": [
    "title_projects = {\n",
    "    _.title: _\n",
    "    for _ in label_client.list_projects()\n",
    "}\n",
    "translate_project = title_projects['translate']\n",
    "classify_project = title_projects['classify']\n",
    "sbs_project = title_projects['sbs']"
   ]
  },
  {
   "cell_type": "markdown",
   "id": "ede36217",
   "metadata": {
    "heading_collapsed": true
   },
   "source": [
    "# sources"
   ]
  },
  {
   "cell_type": "markdown",
   "id": "5a44e90d",
   "metadata": {
    "hidden": true
   },
   "source": [
    "## alpaca"
   ]
  },
  {
   "cell_type": "code",
   "execution_count": null,
   "id": "f16dabe3",
   "metadata": {
    "hidden": true
   },
   "outputs": [],
   "source": [
    "!mkdir -p data/sources/alpaca\n",
    "!curl -L https://github.com/yizhongw/self-instruct/raw/main/human_eval/user_oriented_instructions.jsonl \\\n",
    "    > data/sources/alpaca/user_oriented_instructions.jsonl"
   ]
  },
  {
   "cell_type": "code",
   "execution_count": null,
   "id": "d1fca385",
   "metadata": {
    "hidden": true
   },
   "outputs": [],
   "source": [
    "%run -n main.py\n",
    "items = read_jsonl('data/sources/alpaca/user_oriented_instructions.jsonl')\n",
    "alpaca_items = list(parse_alpaca(items))"
   ]
  },
  {
   "cell_type": "markdown",
   "id": "84aa473e",
   "metadata": {
    "hidden": true
   },
   "source": [
    "## vicuna"
   ]
  },
  {
   "cell_type": "code",
   "execution_count": null,
   "id": "b16051ba",
   "metadata": {
    "hidden": true
   },
   "outputs": [],
   "source": [
    "!mkdir -p data/sources/vicuna\n",
    "!curl -L https://github.com/lm-sys/vicuna-blog-eval/raw/main/eval/table/question.jsonl \\\n",
    "    > data/sources/vicuna/question.jsonl"
   ]
  },
  {
   "cell_type": "code",
   "execution_count": null,
   "id": "9bffdeb3",
   "metadata": {
    "hidden": true
   },
   "outputs": [],
   "source": [
    "%run -n main.py\n",
    "items = read_jsonl('data/sources/vicuna/question.jsonl')\n",
    "vicuna_items = list(parse_vicuna(items))"
   ]
  },
  {
   "cell_type": "markdown",
   "id": "0b97d2c4",
   "metadata": {
    "hidden": true
   },
   "source": [
    "## arena"
   ]
  },
  {
   "cell_type": "code",
   "execution_count": null,
   "id": "fa10145c",
   "metadata": {
    "hidden": true
   },
   "outputs": [],
   "source": [
    "!mkdir -p data/sources/arena\n",
    "!curl -L curl -L https://huggingface.co/datasets/lmsys/chatbot_arena_conversations/resolve/main/data/train-00000-of-00001-cced8514c7ed782a.parquet \\\n",
    "    > data/sources/arena/train-00000-of-00001-cced8514c7ed782a.parquet"
   ]
  },
  {
   "cell_type": "code",
   "execution_count": null,
   "id": "88246d9b",
   "metadata": {
    "hidden": true
   },
   "outputs": [],
   "source": [
    "%run -n main.py\n",
    "records = pd.read_parquet('data/sources/arena/train-00000-of-00001-cced8514c7ed782a.parquet').itertuples()\n",
    "arena_items = list(parse_arena(records))"
   ]
  },
  {
   "cell_type": "markdown",
   "id": "1c177f80",
   "metadata": {
    "heading_collapsed": true
   },
   "source": [
    "# orig"
   ]
  },
  {
   "cell_type": "code",
   "execution_count": null,
   "id": "42507178",
   "metadata": {
    "hidden": true
   },
   "outputs": [],
   "source": [
    "orig_items = alpaca_items + vicuna_items"
   ]
  },
  {
   "cell_type": "code",
   "execution_count": null,
   "id": "86f73172",
   "metadata": {
    "hidden": true
   },
   "outputs": [],
   "source": [
    "instruction_items = {\n",
    "    _['instruction']: _\n",
    "    for _ in arena_items\n",
    "    if _['lang'] == 'English'\n",
    "}\n",
    "orig_items.extend(random.sample(list(instruction_items.values()), 1000))"
   ]
  },
  {
   "cell_type": "code",
   "execution_count": 14,
   "id": "672928a8",
   "metadata": {
    "hidden": true
   },
   "outputs": [],
   "source": [
    "write_json('data/orig.json', orig_items)"
   ]
  },
  {
   "cell_type": "code",
   "execution_count": 15,
   "id": "62b37138",
   "metadata": {
    "hidden": true
   },
   "outputs": [
    {
     "data": {
      "text/plain": [
       "[{'id': 'c189117c-b2a1-4ac9-9f0e-06370cfe8b6b',\n",
       "  'source': 'arena',\n",
       "  'source_id': 'adccaf90b7904fdeb56a1da9150c2492',\n",
       "  'lang': 'English',\n",
       "  'instruction': 'Let\\'s think about writing a Python script step by step. \\n\\n1) Analyze and define the use case. What does the script need to accomplish? \\n\\n2) Analyze the required parameters? What does it need to know? How can it get the parameters? \\n\\n3) Define functions for use cases.\\n\\n4) Execute the script if it is running as the main module.\\n\\nHere is an example script for saving a message to a file:\\n\\nimport os\\n\\ndef get_user_input():\\n    message = input(\"Please enter your message: \")\\n    file_name = input(\"Please enter the file name: \")\\n    return message, file_name\\n\\ndef save_message_to_file(message, file_name):\\n    with open(file_name, \\'w\\') as file:\\n        file.write(message)\\n    print(f\"Message saved to {file_name}\")\\n\\ndef main():\\n    message, file_name = get_user_input()\\n    save_message_to_file(message, file_name)\\n\\nif __name__ == \"__main__\":\\n    main()\\n\\nWrite a python script for a user to append a message to a file.'},\n",
       " {'id': '6eaa90f6-e2d7-484b-8dfe-88848d982b50',\n",
       "  'source': 'arena',\n",
       "  'source_id': '30d0d8edd3694eea9ecb6cc56242e9b3',\n",
       "  'lang': 'English',\n",
       "  'instruction': 'I have two quarters and a ball. I place the ball in a cup, and place the cup in my room. I  take the quarters and place them in my kitchen. Now I take the cup and place it next to the quarters. I put the quarters in the cup. Where is the cup, and how many items are in it?'},\n",
       " {'id': '2bed8861-0338-4b20-822a-4c33e0b723f2',\n",
       "  'source': 'alpaca',\n",
       "  'source_id': 'user_oriented_task_201',\n",
       "  'instruction': 'Provide a name for the dish given the ingredients and instructions.\\n\\n\"INGREDIENTS:\\n2 (5 oz) cans Bumble Bee® Solid White Albacore Tuna, drained\\n1 avocado\\n2 Tbsp Sriracha\\n1 Tbsp Dijon mustard\\n2 to 3 Tbsp celery, chopped\\n2 Tbsp red onion, chopped\\n2 green onions, chopped\\n1 Tbsp fresh cilantro, chopped\\nSalt and pepper, to taste\\n2 heaping cups leafy green lettuce\\n1 cup matchstick carrots\\n4 (10 inch) whole wheat tortillas\\nINSTRUCTIONS:\\nIn a medium bowl, mash together tuna and avocado until combined. Add in the rest of the ingredients through the salt and pepper, mixing well.\\nTo assemble, top each tortilla with a 1/2 cup leafy greens, 1/4 cup matchstick carrots and divide the tuna mixture evenly among the wraps. Tightly roll up the tortilla, slice and enjoy!\"'},\n",
       " {'id': 'b36935fb-5edc-4be1-a8ba-135bce07ed59',\n",
       "  'source': 'arena',\n",
       "  'source_id': 'f583dd3a24e24ef9834a1ac2904a6370',\n",
       "  'lang': 'English',\n",
       "  'instruction': 'what is the average airspeed velocity of an unladen swallow?'},\n",
       " {'id': 'd5e8b30b-5488-4d29-a4b4-b374ae251702',\n",
       "  'source': 'alpaca',\n",
       "  'source_id': 'user_oriented_task_69',\n",
       "  'instruction': 'Find the answer that best describes the underlined SAT word. Select the correct option and explain the meaning of the underlined word.\\n\\n\"Despite the _cacophony, the student tried to study. \\nA. Loud sounds\\nB. Difficult subject\\nC. Late hour\\nD. Low lighting\"'}]"
      ]
     },
     "execution_count": 15,
     "metadata": {},
     "output_type": "execute_result"
    }
   ],
   "source": [
    "orig_items = read_json('data/orig.json')\n",
    "random.sample(orig_items, 5)"
   ]
  },
  {
   "cell_type": "markdown",
   "id": "53282e36",
   "metadata": {
    "heading_collapsed": true
   },
   "source": [
    "# tasks"
   ]
  },
  {
   "cell_type": "code",
   "execution_count": null,
   "id": "e56e5786",
   "metadata": {
    "hidden": true
   },
   "outputs": [],
   "source": [
    "task_items = read_json('data/tasks.json')\n",
    "id_task_items = {_['id']: _ for _ in task_items}"
   ]
  },
  {
   "cell_type": "code",
   "execution_count": null,
   "id": "0cb59303",
   "metadata": {
    "hidden": true
   },
   "outputs": [],
   "source": [
    "task_items.extend(\n",
    "    {\n",
    "        'id': _['id'],\n",
    "        'source': _['source'],\n",
    "        'instruction': None,\n",
    "        'category': None\n",
    "    }\n",
    "    for _ in orig_items\n",
    "    if _['source'] == 'arena'\n",
    ")"
   ]
  },
  {
   "cell_type": "code",
   "execution_count": null,
   "id": "f9d830b3",
   "metadata": {
    "hidden": true
   },
   "outputs": [],
   "source": [
    "write_json('data/tasks.json', task_items)"
   ]
  },
  {
   "cell_type": "markdown",
   "id": "0f2079d8",
   "metadata": {
    "heading_collapsed": true
   },
   "source": [
    "# translate"
   ]
  },
  {
   "cell_type": "code",
   "execution_count": null,
   "id": "94f0a49a",
   "metadata": {
    "hidden": true
   },
   "outputs": [],
   "source": [
    "translate_items = [\n",
    "    {\n",
    "        'id': _['id'],\n",
    "        'instruction': _['instruction'],\n",
    "        'answer': None\n",
    "    }\n",
    "    for _ in orig_items\n",
    "    if _['source'] == 'arena'\n",
    "]\n",
    "id_translate_items = {_['id']: _ for _ in translate_items}"
   ]
  },
  {
   "cell_type": "markdown",
   "id": "56b6b2c1",
   "metadata": {
    "hidden": true
   },
   "source": [
    "## auto"
   ]
  },
  {
   "cell_type": "code",
   "execution_count": null,
   "id": "d27096d3",
   "metadata": {
    "hidden": true
   },
   "outputs": [],
   "source": [
    "%run -n main.py\n",
    "items = [_ for _ in translate_items if not _['answer']]\n",
    "queue = iter(tqdm(items))\n",
    "workers = [translate_worker(queue) for _ in range(10)]\n",
    "await asyncio.gather(*workers);"
   ]
  },
  {
   "cell_type": "markdown",
   "id": "b50978c8",
   "metadata": {
    "hidden": true
   },
   "source": [
    "## review"
   ]
  },
  {
   "cell_type": "code",
   "execution_count": null,
   "id": "e60b4061",
   "metadata": {
    "hidden": true
   },
   "outputs": [],
   "source": [
    "label_items = [\n",
    "    translate_label_item(_)\n",
    "    for _ in translate_items\n",
    "    if not id_task_items[_['id']]['instruction']\n",
    "]\n",
    "random.choice(label_items)"
   ]
  },
  {
   "cell_type": "code",
   "execution_count": null,
   "id": "8af21e7f",
   "metadata": {
    "hidden": true
   },
   "outputs": [],
   "source": [
    "translate_project.delete_all_tasks();\n",
    "translate_project.import_tasks(label_items);"
   ]
  },
  {
   "cell_type": "code",
   "execution_count": null,
   "id": "a5763565",
   "metadata": {
    "hidden": true
   },
   "outputs": [],
   "source": [
    "for label_item in translate_project.export_tasks():\n",
    "    item = label_translate_item(label_item)\n",
    "    id_task_items[item['id']]['instruction'] = item['answer']"
   ]
  },
  {
   "cell_type": "markdown",
   "id": "80cfb55e",
   "metadata": {
    "heading_collapsed": true
   },
   "source": [
    "# classify"
   ]
  },
  {
   "cell_type": "code",
   "execution_count": null,
   "id": "fb5f7bfa",
   "metadata": {
    "hidden": true
   },
   "outputs": [],
   "source": [
    "classify_items = [\n",
    "    {\n",
    "        'id': item['id'],\n",
    "        'instruction': item['instruction'],\n",
    "        'category': item['category'],\n",
    "        'max_sim': None\n",
    "    }\n",
    "    for _ in task_items\n",
    "]"
   ]
  },
  {
   "cell_type": "markdown",
   "id": "3041ff50",
   "metadata": {
    "hidden": true
   },
   "source": [
    "## auto"
   ]
  },
  {
   "cell_type": "code",
   "execution_count": null,
   "id": "263316d7",
   "metadata": {
    "hidden": true
   },
   "outputs": [],
   "source": [
    "id_embeddings = read_pickle('data/embeddings.pkl')"
   ]
  },
  {
   "cell_type": "code",
   "execution_count": null,
   "id": "35c9e158",
   "metadata": {
    "hidden": true
   },
   "outputs": [],
   "source": [
    "%run -n main.py\n",
    "items = [\n",
    "    _ for _ in classify_items\n",
    "    if _['id'] not in id_embeddings\n",
    "]\n",
    "for index in tqdm(range(0, len(items), 64)):\n",
    "    batch = items[index:index + 64]\n",
    "    texts = [_['instruction'] for _ in batch]\n",
    "    embeddings = openai_embed_batch(texts)\n",
    "    for item, embedding in zip(batch, embeddings):\n",
    "        id_embeddings[item['id']] = np.array(embedding)"
   ]
  },
  {
   "cell_type": "code",
   "execution_count": null,
   "id": "4136d766",
   "metadata": {
    "hidden": true
   },
   "outputs": [],
   "source": [
    "write_pickle('data/embeddings.pkl', id_embeddings)"
   ]
  },
  {
   "cell_type": "code",
   "execution_count": null,
   "id": "24754a41",
   "metadata": {
    "hidden": true
   },
   "outputs": [],
   "source": [
    "target_items = [\n",
    "    _ for _ in classify_items\n",
    "    if _['category'] and _['category'] != 'bad instruction'\n",
    "]\n",
    "items = [_ for _ in classify_items if not _['category']]\n",
    "\n",
    "for item in tqdm(items):\n",
    "    max_sim = 0\n",
    "    for target_item in target_items:\n",
    "        sim = cosine_sim(\n",
    "            id_embeddings[item['id']],\n",
    "            id_embeddings[target_item['id']]\n",
    "        )\n",
    "        if sim > max_sim:\n",
    "            max_sim = sim\n",
    "            item['category'] = target_item['category']\n",
    "    item['max_sim'] = max_sim"
   ]
  },
  {
   "cell_type": "markdown",
   "id": "9b38eb5c",
   "metadata": {
    "hidden": true
   },
   "source": [
    "## review"
   ]
  },
  {
   "cell_type": "code",
   "execution_count": null,
   "id": "320535ad",
   "metadata": {
    "hidden": true
   },
   "outputs": [],
   "source": [
    "items = []\n",
    "for item in classify_items:\n",
    "    if not item['max_sim']:\n",
    "        continue\n",
    "        \n",
    "    if item['category'] != 'enumerate':\n",
    "        continue\n",
    "        \n",
    "    items.append(item)\n",
    "\n",
    "items = sorted(items, key=lambda _: _['max_sim'], reverse=False)\n",
    "label_items = [classify_label_item(_) for _ in items]\n",
    "\n",
    "print('|label_items| =', len(label_items))\n",
    "random.choice(label_items)"
   ]
  },
  {
   "cell_type": "code",
   "execution_count": null,
   "id": "562d1120",
   "metadata": {
    "hidden": true
   },
   "outputs": [],
   "source": [
    "classify_project.delete_all_tasks();\n",
    "classify_project.import_tasks(label_items);"
   ]
  },
  {
   "cell_type": "code",
   "execution_count": null,
   "id": "6061f33e",
   "metadata": {
    "hidden": true
   },
   "outputs": [],
   "source": [
    "%run -n main.py\n",
    "for label_item in classify_project.export_tasks():\n",
    "    item = label_classify_item(label_item)\n",
    "    id_task_items[item['id']] = item['category']"
   ]
  },
  {
   "cell_type": "markdown",
   "id": "8110788d",
   "metadata": {
    "heading_collapsed": true
   },
   "source": [
    "# infer"
   ]
  },
  {
   "cell_type": "code",
   "execution_count": null,
   "id": "40127d71",
   "metadata": {
    "hidden": true
   },
   "outputs": [],
   "source": [
    "%run -n main.py\n",
    "infer_items = read_json('data/infer.json')"
   ]
  },
  {
   "cell_type": "code",
   "execution_count": null,
   "id": "47e693ee",
   "metadata": {
    "hidden": true
   },
   "outputs": [],
   "source": [
    "infer_items.extend(\n",
    "    {\n",
    "        'id': _['id'],\n",
    "        'model': 'yagpt_chat',\n",
    "        'instruction': _['instruction'],\n",
    "        'answer': None\n",
    "    }\n",
    "    for _ in task_items\n",
    ")"
   ]
  },
  {
   "cell_type": "code",
   "execution_count": null,
   "id": "6028c555",
   "metadata": {
    "hidden": true
   },
   "outputs": [],
   "source": [
    "write_json('data/infer.json', infer_items)"
   ]
  },
  {
   "cell_type": "code",
   "execution_count": null,
   "id": "806e4c13",
   "metadata": {
    "hidden": true,
    "scrolled": false
   },
   "outputs": [],
   "source": [
    "items = [\n",
    "    _ for _ in infer_items\n",
    "    if _['model'] == 'yagpt_chat'\n",
    "    if _['answer'] is not None\n",
    "]\n",
    "print('|items| =', len(items))\n",
    "\n",
    "# random.shuffle(items)\n",
    "for item in items[-10:]:\n",
    "    if item['answer']:\n",
    "        print(item['instruction'])\n",
    "        print('----')\n",
    "        print(item['answer'])\n",
    "        print('---\\n\\n')"
   ]
  },
  {
   "cell_type": "markdown",
   "id": "50c13ddd",
   "metadata": {
    "hidden": true
   },
   "source": [
    "## turbo"
   ]
  },
  {
   "cell_type": "code",
   "execution_count": null,
   "id": "28a2a0c1",
   "metadata": {
    "hidden": true
   },
   "outputs": [],
   "source": [
    "%run -n main.py\n",
    "items = [_ for _ in infer_items if _['answer'] is None and _['model'] == 'turbo_2']\n",
    "queue = iter(tqdm(items))\n",
    "workers = [openai_infer_worker(queue, model='gpt-3.5-turbo-0613') for _ in range(20)]\n",
    "await asyncio.gather(*workers);"
   ]
  },
  {
   "cell_type": "markdown",
   "id": "1bc58a7c",
   "metadata": {
    "hidden": true
   },
   "source": [
    "## gpt4"
   ]
  },
  {
   "cell_type": "code",
   "execution_count": null,
   "id": "10c3ec45",
   "metadata": {
    "hidden": true,
    "scrolled": false
   },
   "outputs": [],
   "source": [
    "%run -n main.py\n",
    "items = [_ for _ in infer_items if _['answer'] is None and _['model'] == 'gpt4_2']\n",
    "queue = iter(tqdm(items))\n",
    "workers = [openai_infer_worker(queue, model='gpt-4-0613', request_timeout=1200) for _ in range(20)]\n",
    "await asyncio.gather(*workers);"
   ]
  },
  {
   "cell_type": "markdown",
   "id": "52431698",
   "metadata": {
    "hidden": true
   },
   "source": [
    "## gigachat"
   ]
  },
  {
   "cell_type": "code",
   "execution_count": null,
   "id": "28a3165d",
   "metadata": {
    "hidden": true
   },
   "outputs": [],
   "source": [
    "%run -n main.py\n",
    "headers = dict(read_headers('.gigachat'))\n",
    "gigachat_client = gigachat_client_init(headers)\n",
    "\n",
    "# After ~5 min / 260 answers blocked for ~1 hour\n",
    "# {'result': 'rejected', 'reason': 'UserBlocked', 'user_blocked_until': '2023-08-25T11:00:24+00:00'}\n",
    "\n",
    "# \"в полуавтоматическом режиме банят, если 3 временных бана, то могут опять решить забанить насовсем.\n",
    "# Так что при временном бане лучше какое-то время  подождать.\"\n",
    "\n",
    "# \"из-за запросов типа \"Люди умирают, когда их убивают, откуда это высказывание?\". Цензор такое\n",
    "# отлавливает сколько-то раз и во временный бан отправляет\""
   ]
  },
  {
   "cell_type": "code",
   "execution_count": null,
   "id": "3acd6dd2",
   "metadata": {
    "hidden": true
   },
   "outputs": [],
   "source": [
    "%run -n main.py\n",
    "items = [_ for _ in infer_items if _['answer'] is None and _['model'] == 'gigachat']\n",
    "queue = iter(tqdm(items[:100]))\n",
    "workers = [gigachat_infer_worker(gigachat_client, queue) for _ in range(2)]\n",
    "await asyncio.gather(*workers);"
   ]
  },
  {
   "cell_type": "markdown",
   "id": "ad626baf",
   "metadata": {
    "hidden": true
   },
   "source": [
    "## yagpt"
   ]
  },
  {
   "cell_type": "code",
   "execution_count": null,
   "id": "2a970ede",
   "metadata": {
    "hidden": true
   },
   "outputs": [],
   "source": [
    "lines = !~/yandex-cloud/bin/yc iam create-token\n",
    "YAGPT_TOKEN = lines[0]\n",
    "\n",
    "lines = !~/yandex-cloud/bin/yc resource-manager folder get --name default --format json\n",
    "data = json.loads(''.join(lines))\n",
    "YAGPT_FOLDER_ID = data['id']\n",
    "\n",
    "# token expires every ~12 hours"
   ]
  },
  {
   "cell_type": "code",
   "execution_count": null,
   "id": "df587c64",
   "metadata": {
    "hidden": true
   },
   "outputs": [],
   "source": [
    "%run -n main.py\n",
    "yagpt_client = yagpt_client_init(YAGPT_TOKEN, YAGPT_FOLDER_ID)"
   ]
  },
  {
   "cell_type": "code",
   "execution_count": null,
   "id": "c1471595",
   "metadata": {
    "hidden": true
   },
   "outputs": [],
   "source": [
    "%run -n main.py\n",
    "items = [_ for _ in infer_items if _['answer'] is None and _['model'] == 'yagpt_instruct']\n",
    "queue = iter(tqdm(items))\n",
    "limiter = Limiter(min_delay=1.2)\n",
    "workers = [yagpt_infer_worker(yagpt_client, limiter, queue, mode='instruct') for _ in range(5)]\n",
    "await asyncio.gather(*workers);"
   ]
  },
  {
   "cell_type": "code",
   "execution_count": null,
   "id": "c6a879bb",
   "metadata": {
    "hidden": true
   },
   "outputs": [],
   "source": [
    "%run -n main.py\n",
    "items = [_ for _ in infer_items if _['answer'] is None and _['model'] == 'yagpt_chat']\n",
    "queue = iter(tqdm(items))\n",
    "limiter = Limiter(min_delay=1.2)\n",
    "workers = [yagpt_infer_worker(yagpt_client, limiter, queue, mode='chat') for _ in range(5)]\n",
    "await asyncio.gather(*workers);"
   ]
  },
  {
   "cell_type": "markdown",
   "id": "9b94db02",
   "metadata": {},
   "source": [
    "# sbs"
   ]
  },
  {
   "cell_type": "code",
   "execution_count": 265,
   "id": "48c331df",
   "metadata": {},
   "outputs": [],
   "source": [
    "sbs_items = read_json('data/sbs.json')"
   ]
  },
  {
   "cell_type": "code",
   "execution_count": 330,
   "id": "d9b2c163",
   "metadata": {},
   "outputs": [],
   "source": [
    "id_task_items = {_['id']: _ for _ in task_items}\n",
    "\n",
    "id_model_answers = defaultdict(dict)\n",
    "for item in infer_items:\n",
    "    id_model_answers[item['id']][item['model']] = item['answer']\n",
    "\n",
    "key_sbs_items = {}\n",
    "for item in sbs_items:\n",
    "    key = item['id'], item['model_a'], item['model_b']\n",
    "    key_sbs_items[key] = item"
   ]
  },
  {
   "cell_type": "code",
   "execution_count": 331,
   "id": "a5cae820",
   "metadata": {},
   "outputs": [],
   "source": [
    "model_a = 'turbo_2'\n",
    "for item in infer_items:\n",
    "    id, model_b = item['id'], item['model']\n",
    "    if model_a == model_b:\n",
    "        continue\n",
    "\n",
    "    if model_b in ('yagpt_chat', 'yagpt_alisa'):\n",
    "        continue\n",
    "\n",
    "    key = id, model_a, model_b\n",
    "    if key in key_sbs_items:\n",
    "        continue\n",
    "\n",
    "    answer_a = id_model_answers[id][model_a]\n",
    "    answer_b = id_model_answers[id][model_b]\n",
    "    if not answer_a or not answer_b:\n",
    "        continue\n",
    "\n",
    "    task_item = id_task_items[id]\n",
    "    if task_item['source'] not in ('alpaca', 'vicuna'):\n",
    "        continue\n",
    "\n",
    "    instruction = task_item['instruction']\n",
    "    sbs_items.append({\n",
    "        'id': id,\n",
    "        'model_a': model_a,\n",
    "        'model_b': model_b,\n",
    "\n",
    "        'instruction': instruction,\n",
    "        'answer_a': answer_a,\n",
    "        'answer_b': answer_b,\n",
    "\n",
    "        'result': None\n",
    "    })"
   ]
  },
  {
   "cell_type": "code",
   "execution_count": 355,
   "id": "61de604d",
   "metadata": {},
   "outputs": [],
   "source": [
    "write_json('data/sbs.json', sbs_items)"
   ]
  },
  {
   "cell_type": "markdown",
   "id": "1c93a7c2",
   "metadata": {},
   "source": [
    "## auto"
   ]
  },
  {
   "cell_type": "code",
   "execution_count": 340,
   "id": "ef212227",
   "metadata": {},
   "outputs": [
    {
     "name": "stderr",
     "output_type": "stream",
     "text": [
      " 93%|█████████▎| 93/100 [01:58<00:11,  1.63s/it]Timeout(message='Request timed out', http_status=None, request_id=None)\n",
      "100%|██████████| 100/100 [02:08<00:00,  1.29s/it]\n",
      "Timeout(message='Request timed out', http_status=None, request_id=None)\n",
      "Timeout(message='Request timed out', http_status=None, request_id=None)\n"
     ]
    }
   ],
   "source": [
    "%run -n main.py\n",
    "items = [_ for _ in sbs_items if not _['result']]\n",
    "random.shuffle(items)\n",
    "queue = iter(tqdm(items[:100]))\n",
    "workers = [sbs_worker(queue) for _ in range(10)]\n",
    "await asyncio.gather(*workers);"
   ]
  },
  {
   "cell_type": "markdown",
   "id": "f633da60",
   "metadata": {},
   "source": [
    "## review"
   ]
  },
  {
   "cell_type": "code",
   "execution_count": 346,
   "id": "d24a01e3",
   "metadata": {},
   "outputs": [
    {
     "name": "stdout",
     "output_type": "stream",
     "text": [
      "|label_items| = 105\n"
     ]
    },
    {
     "data": {
      "text/plain": [
       "{'data': {'id': '4ab1d8b0-ee0d-4e68-bed6-fcfe96aea6b7',\n",
       "  'model_a': 'turbo_2',\n",
       "  'model_b': 'gpt4_2',\n",
       "  'instruction': 'Извлеките метод, использованный в исследовании. Укажите точные предложения, которые обсуждают этот метод.\\n\\n\"We present a state-of-the-art speech recognition system developed using end-to-end deep learning. Our architecture is significantly simpler than traditional speech systems, which rely on laboriously engineered processing pipelines; these traditional systems also tend to perform poorly when used in noisy environments. In contrast, our system does not need hand-designed components to model background noise, reverberation, or speaker variation, but instead directly learns a function that is robust to such effects. We do not need a phoneme dictionary, nor even the concept of a \"phoneme.\" Key to our approach is a well-optimized RNN training system that uses multiple GPUs, as well as a set of novel data synthesis techniques that allow us to efficiently obtain a large amount of varied data for training. Our system, called Deep Speech, outperforms previously published results on the widely studied Switchboard Hub5\\'00, achieving 16.0% error on the full test set. Deep Speech also handles challenging noisy environments better than widely used, state-of-the-art commercial speech systems\"',\n",
       "  'answer_a': 'Метод, использованный в исследовании, состоит в разработке конечно-конечной глубокой нейронной сети для распознавания речи. В статье говорится: \"Мы представляем современную систему распознавания речи, разработанную с использованием конечно-конечного глубокого обучения. Наша архитектура значительно проще, чем традиционные системы распознавания речи, которые полагаются на сложные инженерные процессы; эти традиционные системы также обычно плохо работают в шумных средах. В отличие от этого, наша система не нуждается в разработанных вручную компонентах для моделирования фонового шума, эхо или вариации голоса, а вместо этого прямо учится функции, устойчивой к таким эффектам. Нам не нужен фонемный словарь, даже понятие \"фонемы\". Ключевым моментом нашего подхода является хорошо оптимизированная обучающая система RNN, которая использует несколько GPU, а также набор новых техник синтеза данных, которые позволяют нам эффективно получать большой объем разнообразных данных для обучения. Наша система, называемая Deep Speech, превосходит ранее опубликованные результаты на широко изученном наборе данных Switchboard Hub5\\'00, достигая 16,0% ошибки на полном тестовом наборе. Deep Speech также лучше справляется с сложными шумными средами, чем широко используемые современные коммерческие системы распознавания речи\".',\n",
       "  'answer_b': 'The method used in the research is the development of a speech recognition system using end-to-end deep learning. The sentences that discuss this method are: \"We present a state-of-the-art speech recognition system developed using end-to-end deep learning. Our architecture is significantly simpler than traditional speech systems, which rely on laboriously engineered processing pipelines; these traditional systems also tend to perform poorly when used in noisy environments. In contrast, our system does not need hand-designed components to model background noise, reverberation, or speaker variation, but instead directly learns a function that is robust to such effects.\" Another part of the method is mentioned in: \"Key to our approach is a well-optimized RNN training system that uses multiple GPUs, as well as a set of novel data synthesis techniques that allow us to efficiently obtain a large amount of varied data for training.\"',\n",
       "  'answer': \"Both gpt4_2 and turbo_2 accurately identified the method used in the user's study text and provided the specific sentences that refer to that method. However, gpt4_2 responded in English, while turbo_2 responded in Russian, which is the same language as the user's question. Given that the user's question was in Russian, turbo_2 is more aligned with the user's language preference, thus making it easier for the user to understand the response. Therefore, based on the relevance of the assistant's responds to the language used by the user, turbo_2 provides a better response. \\n\\nFinal Verdict: turbo_2 better\"},\n",
       " 'predictions': [{'result': [{'from_name': 'result',\n",
       "     'to_name': 'instruction',\n",
       "     'type': 'choices',\n",
       "     'value': {'choices': ['A']}}]}]}"
      ]
     },
     "execution_count": 346,
     "metadata": {},
     "output_type": "execute_result"
    }
   ],
   "source": [
    "%run -n main.py\n",
    "items = []\n",
    "for item in sbs_items:\n",
    "    if item['result']:\n",
    "        items.append(item)\n",
    "    \n",
    "random.shuffle(items)\n",
    "label_items = [sbs_label_item(_) for _ in items]\n",
    "\n",
    "print('|label_items| =', len(label_items))\n",
    "random.choice(label_items)"
   ]
  },
  {
   "cell_type": "code",
   "execution_count": 347,
   "id": "1ded6271",
   "metadata": {},
   "outputs": [],
   "source": [
    "sbs_project.delete_all_tasks();\n",
    "sbs_project.import_tasks(label_items);"
   ]
  },
  {
   "cell_type": "code",
   "execution_count": 119,
   "id": "3fc76002",
   "metadata": {},
   "outputs": [],
   "source": [
    "%run -n main.py\n",
    "for item in sbs_items:\n",
    "    key = item['id'], item['model_a'], item['model_b']\n",
    "    key_sbs_items[key] = item\n",
    "\n",
    "for label_item in sbs_project.export_tasks():\n",
    "    item = label_sbs_item(label_item)\n",
    "    key = item['id'], item['model_a'], item['model_b']\n",
    "    key_sbs_items[key]['result'] = item['result']"
   ]
  },
  {
   "cell_type": "markdown",
   "id": "40c7b41f",
   "metadata": {},
   "source": [
    "# plot"
   ]
  },
  {
   "cell_type": "code",
   "execution_count": 352,
   "id": "37122772",
   "metadata": {},
   "outputs": [],
   "source": [
    "result_scores = {\n",
    "    'A': -1,\n",
    "    'AC': -0.5,\n",
    "    'C': 0,\n",
    "    'BC': 0.5,\n",
    "    'B': 1,\n",
    "}\n",
    "\n",
    "model_scores = defaultdict(list)\n",
    "for item in sbs_items:\n",
    "    result = item['result']\n",
    "    if not result:\n",
    "        continue\n",
    "\n",
    "    score = result_scores[item['result']]\n",
    "    model_scores[item['model_b']].append(score)\n",
    "\n",
    "model_stats = {}\n",
    "for model, scores in model_scores.items():\n",
    "    samples = []\n",
    "    for _ in range(500):\n",
    "        accum = 0\n",
    "        for score in random.choices(scores, k=len(scores)):\n",
    "            accum += score\n",
    "        samples.append(accum / len(scores))\n",
    "        \n",
    "    samples.sort()\n",
    "    size = len(samples)\n",
    "    model_stats[model] = {\n",
    "        'median': samples[round(size / 2)],\n",
    "        'lower_bound': samples[round(size * 0.05)],\n",
    "        'upper_bound': samples[round(size * 0.95)],\n",
    "    }\n",
    "    \n",
    "model_stats['turbo_2'] = {'median': 0, 'lower_bound': 0, 'upper_bound': 0}"
   ]
  },
  {
   "cell_type": "code",
   "execution_count": 353,
   "id": "5bbdbd81",
   "metadata": {},
   "outputs": [
    {
     "data": {
      "text/plain": [
       "{'gpt4_2': {'median': 0.07407407407407407,\n",
       "  'lower_bound': -0.18518518518518517,\n",
       "  'upper_bound': 0.3148148148148148},\n",
       " 'gigachat': {'median': -0.890625,\n",
       "  'lower_bound': -0.96875,\n",
       "  'upper_bound': -0.796875},\n",
       " 'yagpt_instruct': {'median': -0.4375,\n",
       "  'lower_bound': -0.6666666666666666,\n",
       "  'upper_bound': -0.1875},\n",
       " 'saiga2_7b': {'median': -0.7142857142857143,\n",
       "  'lower_bound': -0.9285714285714286,\n",
       "  'upper_bound': -0.42857142857142855},\n",
       " 'saiga2_13b': {'median': -0.875, 'lower_bound': -1.0, 'upper_bound': -0.625},\n",
       " 'turbo_2': {'median': 0, 'lower_bound': 0, 'upper_bound': 0}}"
      ]
     },
     "execution_count": 353,
     "metadata": {},
     "output_type": "execute_result"
    }
   ],
   "source": [
    "model_stats"
   ]
  },
  {
   "cell_type": "code",
   "execution_count": 354,
   "id": "52084449",
   "metadata": {},
   "outputs": [
    {
     "data": {
      "text/plain": [
       "Text(0.5, 0, '(A лучше B - B лучше A) / всего заданий')"
      ]
     },
     "execution_count": 354,
     "metadata": {},
     "output_type": "execute_result"
    },
    {
     "data": {
      "image/png": "[encoded data removed]",
      "text/plain": [
       "<Figure size 640x480 with 1 Axes>"
      ]
     },
     "metadata": {
      "image/png": {
       "height": 454,
       "width": 644
      }
     },
     "output_type": "display_data"
    }
   ],
   "source": [
    "%run -n main.py\n",
    "\n",
    "models_order = [\n",
    "    'gigachat',\n",
    "\n",
    "    'saiga2_7b',\n",
    "    'saiga2_13b',\n",
    "\n",
    "#     'yagpt_alisa',\n",
    "#     'yagpt_chat',\n",
    "    'yagpt_instruct',\n",
    "    \n",
    "    'turbo_2',\n",
    "    'gpt4_2'\n",
    "]\n",
    "\n",
    "xs = []\n",
    "ys = []\n",
    "xerr_lower = []\n",
    "xerr_upper = []\n",
    "for y, model in enumerate(models_order):\n",
    "    ys.append(y)\n",
    "\n",
    "    stats = model_stats[model]\n",
    "    xs.append(stats['median'])\n",
    "    xerr_lower.append(stats['median'] - stats['lower_bound'])\n",
    "    xerr_upper.append(stats['upper_bound'] - stats['median'])\n",
    "\n",
    "fig, ax = plt.subplots()\n",
    "ax.errorbar(\n",
    "    x=xs,\n",
    "    y=ys,\n",
    "    xerr=[xerr_lower, xerr_upper],\n",
    "    fmt='o'\n",
    ")\n",
    "ax.set_yticks(ys, models_order)\n",
    "ax.set_title('B = turbo')\n",
    "ax.set_ylabel('A')\n",
    "ax.set_xlabel('(A лучше B - B лучше A) / всего заданий')"
   ]
  },
  {
   "cell_type": "markdown",
   "id": "4e25fd79",
   "metadata": {},
   "source": [
    "# show samples"
   ]
  },
  {
   "cell_type": "code",
   "execution_count": null,
   "id": "55aee64e",
   "metadata": {},
   "outputs": [],
   "source": [
    "%run -n main.py\n",
    "source_items = defaultdict(list)\n",
    "for item in task_items:\n",
    "    source_items[item['source']].append(item)\n",
    "\n",
    "with open('data/tasks.md', 'w') as file:\n",
    "    with redirect_stdout(file):\n",
    "        for source in ['alpaca', 'vicuna', 'arena']:\n",
    "            print(f'<h1>{source}</h1>')\n",
    "\n",
    "            items = [_ for _ in source_items[source] if _['category']]\n",
    "            for item in random.sample(items, 30):\n",
    "                category = item['category']\n",
    "                print(f'<code>#{category}</code>')\n",
    "                print('<br/>')\n",
    "                instruction = html.escape(item['instruction'])\n",
    "                print('<br/>\\n'.join(instruction.splitlines()))\n",
    "                print('<br/><br/>')"
   ]
  }
 ],
 "metadata": {
  "kernelspec": {
   "display_name": "rulm-sbs2",
   "language": "python",
   "name": "rulm-sbs2"
  },
  "language_info": {
   "codemirror_mode": {
    "name": "ipython",
    "version": 3
   },
   "file_extension": ".py",
   "mimetype": "text/x-python",
   "name": "python",
   "nbconvert_exporter": "python",
   "pygments_lexer": "ipython3",
   "version": "3.10.8"
  }
 },
 "nbformat": 4,
 "nbformat_minor": 5
}
