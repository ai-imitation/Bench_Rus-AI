{
 "cells": [
  {
   "cell_type": "code",
   "execution_count": 113,
   "id": "f5249117",
   "metadata": {},
   "outputs": [],
   "source": [
    "%run -n main.py\n",
    "dotenv = dict(read_dotenv('.env'))\n",
    "openai.api_key = dotenv['OPENAI_TOKEN']"
   ]
  },
  {
   "cell_type": "markdown",
   "id": "a13bea75",
   "metadata": {},
   "source": [
    "# sources"
   ]
  },
  {
   "cell_type": "markdown",
   "id": "f836dd57",
   "metadata": {},
   "source": [
    "## alpaca"
   ]
  },
  {
   "cell_type": "code",
   "execution_count": null,
   "id": "adbc729e",
   "metadata": {},
   "outputs": [],
   "source": [
    "!mkdir -p data/sources/alpaca\n",
    "!curl -L https://github.com/yizhongw/self-instruct/raw/main/human_eval/user_oriented_instructions.jsonl \\\n",
    "    > data/sources/alpaca/user_oriented_instructions.jsonl"
   ]
  },
  {
   "cell_type": "code",
   "execution_count": 99,
   "id": "73d8406d",
   "metadata": {},
   "outputs": [
    {
     "data": {
      "text/plain": [
       "[{'id': '7610be0f-8237-4035-96a8-5820219d619e',\n",
       "  'source': 'alpaca',\n",
       "  'source_id': 'user_oriented_task_224',\n",
       "  'instruction': 'Convert natural language into a list of turn-by-turn directions.\\n\\n\"Go west on I-10 until you hit the 101 then take it north. You will eventually see the Hollywood sign.\"'},\n",
       " {'id': 'a58bfb9a-4f0d-4330-8154-4afd17d573c6',\n",
       "  'source': 'alpaca',\n",
       "  'source_id': 'user_oriented_task_238',\n",
       "  'instruction': 'Categorize the given product into one of Electronics, Computers, Smart Home, or Arts & Crafts departments.\\n\\n\"Google Nest Learning Thermostat\"'},\n",
       " {'id': '63ce006e-7056-46cd-842b-3615c2d8317b',\n",
       "  'source': 'alpaca',\n",
       "  'source_id': 'user_oriented_task_104',\n",
       "  'instruction': 'List the personality traits that are required to be successful in the given job.\\n\\n\"Social Media Marketer\"'}]"
      ]
     },
     "execution_count": 99,
     "metadata": {},
     "output_type": "execute_result"
    }
   ],
   "source": [
    "%run -n main.py\n",
    "items = read_jsonl('data/sources/alpaca/user_oriented_instructions.jsonl')\n",
    "alpaca_items = list(parse_alpaca(items))\n",
    "random.sample(alpaca_items, 3)"
   ]
  },
  {
   "cell_type": "markdown",
   "id": "e54620c1",
   "metadata": {},
   "source": [
    "## vicuna"
   ]
  },
  {
   "cell_type": "code",
   "execution_count": null,
   "id": "50938612",
   "metadata": {},
   "outputs": [],
   "source": [
    "!mkdir -p data/sources/vicuna\n",
    "!curl -L https://github.com/lm-sys/vicuna-blog-eval/raw/main/eval/table/question.jsonl \\\n",
    "    > data/sources/vicuna/question.jsonl"
   ]
  },
  {
   "cell_type": "code",
   "execution_count": 100,
   "id": "1c93d7f6",
   "metadata": {},
   "outputs": [
    {
     "data": {
      "text/plain": [
       "[{'id': '2aea7930-c299-4be5-aad4-048d669c231d',\n",
       "  'source': 'vicuna',\n",
       "  'source_id': 53,\n",
       "  'category': 'counterfactual',\n",
       "  'instruction': 'What if the Black Death had not occurred in the 14th century?'},\n",
       " {'id': '5b49aa61-1300-495a-ac10-1d88a3186939',\n",
       "  'source': 'vicuna',\n",
       "  'source_id': 73,\n",
       "  'category': 'writing',\n",
       "  'instruction': 'Use an appropriate format to structure a formal letter of recommendation for a student applying to a prestigious graduate program in computer science.'},\n",
       " {'id': '7c08ea72-8c64-4b93-9bde-445f20dbe3b1',\n",
       "  'source': 'vicuna',\n",
       "  'source_id': 57,\n",
       "  'category': 'counterfactual',\n",
       "  'instruction': 'What if the Suez Canal had never been constructed?'}]"
      ]
     },
     "execution_count": 100,
     "metadata": {},
     "output_type": "execute_result"
    }
   ],
   "source": [
    "%run -n main.py\n",
    "items = read_jsonl('data/sources/vicuna/question.jsonl')\n",
    "vicuna_items = list(parse_vicuna(items))\n",
    "random.sample(vicuna_items, 3)"
   ]
  },
  {
   "cell_type": "markdown",
   "id": "64428dc1",
   "metadata": {},
   "source": [
    "## arena"
   ]
  },
  {
   "cell_type": "code",
   "execution_count": null,
   "id": "aa6e4ccf",
   "metadata": {},
   "outputs": [],
   "source": [
    "!mkdir -p data/sources/arena\n",
    "!curl -L curl -L https://huggingface.co/datasets/lmsys/chatbot_arena_conversations/resolve/main/data/train-00000-of-00001-cced8514c7ed782a.parquet \\\n",
    "    > data/sources/arena/train-00000-of-00001-cced8514c7ed782a.parquet"
   ]
  },
  {
   "cell_type": "code",
   "execution_count": 115,
   "id": "a442b119",
   "metadata": {},
   "outputs": [
    {
     "data": {
      "text/plain": [
       "[{'id': 'd843ac4a-4b59-4b4f-bc3e-d6de101a7953',\n",
       "  'source': 'arena',\n",
       "  'source_id': '924c59203b4e4aeea5e627011da0b283',\n",
       "  'lang': 'English',\n",
       "  'instruction': 'what are hybrid text classification methods?'},\n",
       " {'id': '584f5fa3-37cc-44b4-bf28-dc2dd7e71682',\n",
       "  'source': 'arena',\n",
       "  'source_id': '37c2c4edb3b14e49b5920613d9b6befe',\n",
       "  'lang': 'English',\n",
       "  'instruction': 'What strains of cannabis have been reported by individuals with borderline personality disorder as preferable or effective in the management of their symptoms?'},\n",
       " {'id': 'bea19674-14cd-4996-a350-d68d2d0c0317',\n",
       "  'source': 'arena',\n",
       "  'source_id': '2005e97ef88246468f890495101550ea',\n",
       "  'lang': 'English',\n",
       "  'instruction': 'How big is the Eiffeltower?'}]"
      ]
     },
     "execution_count": 115,
     "metadata": {},
     "output_type": "execute_result"
    }
   ],
   "source": [
    "%run -n main.py\n",
    "records = pd.read_parquet('data/sources/arena/train-00000-of-00001-cced8514c7ed782a.parquet').itertuples()\n",
    "arena_items = list(parse_arena(records))\n",
    "random.sample(arena_items, 3)"
   ]
  },
  {
   "cell_type": "markdown",
   "id": "4dbbaee9",
   "metadata": {},
   "source": [
    "# orig"
   ]
  },
  {
   "cell_type": "code",
   "execution_count": 116,
   "id": "3f939fb9",
   "metadata": {},
   "outputs": [],
   "source": [
    "!mkdir -p data/orig"
   ]
  },
  {
   "cell_type": "code",
   "execution_count": 117,
   "id": "d90aa317",
   "metadata": {},
   "outputs": [],
   "source": [
    "write_jsonl('data/orig/alpaca.jsonl', alpaca_items)\n",
    "write_jsonl('data/orig/vicuna.jsonl', vicuna_items)"
   ]
  },
  {
   "cell_type": "code",
   "execution_count": 122,
   "id": "756d375d",
   "metadata": {},
   "outputs": [],
   "source": [
    "instruction_items = {\n",
    "    _['instruction']: _\n",
    "    for _ in arena_items\n",
    "    if _['lang'] == 'English'\n",
    "}\n",
    "items = random.sample(list(instruction_items.values()), 1000)\n",
    "write_jsonl('data/orig/arena.jsonl', items)"
   ]
  },
  {
   "cell_type": "code",
   "execution_count": 124,
   "id": "d87a3ba9",
   "metadata": {},
   "outputs": [],
   "source": [
    "alpaca_items = list(read_jsonl('data/orig/alpaca.jsonl'))\n",
    "vicuna_items = list(read_jsonl('data/orig/vicuna.jsonl'))\n",
    "arena_items = list(read_jsonl('data/orig/arena.jsonl'))"
   ]
  },
  {
   "cell_type": "markdown",
   "id": "2ea929fc",
   "metadata": {},
   "source": [
    "# translate"
   ]
  },
  {
   "cell_type": "code",
   "execution_count": 178,
   "id": "69392bd7",
   "metadata": {},
   "outputs": [],
   "source": [
    "translate_items = [\n",
    "    {\n",
    "        'id': _['id'],\n",
    "        'instruction': _['instruction'],\n",
    "        'answer': None\n",
    "    }\n",
    "    for _ in vicuna_items\n",
    "]"
   ]
  },
  {
   "cell_type": "code",
   "execution_count": 175,
   "id": "cf133798",
   "metadata": {},
   "outputs": [
    {
     "name": "stderr",
     "output_type": "stream",
     "text": [
      "100%|██████████| 156/156 [01:07<00:00,  2.30it/s]\n"
     ]
    }
   ],
   "source": [
    "%run -n main.py\n",
    "items = [_ for _ in translate_items if not _['answer']]\n",
    "queue = iter(tqdm(items))\n",
    "workers = [openai_translate_worker(queue) for _ in range(10)]\n",
    "await asyncio.gather(*workers);"
   ]
  },
  {
   "cell_type": "code",
   "execution_count": 188,
   "id": "1d216aab",
   "metadata": {},
   "outputs": [],
   "source": [
    "!mkdir -p data/translate\n",
    "write_jsonl('data/translate/vicuna.jsonl', translate_items)"
   ]
  },
  {
   "cell_type": "markdown",
   "id": "069861a3",
   "metadata": {},
   "source": []
  }
 ],
 "metadata": {
  "kernelspec": {
   "display_name": "rulm-sbs2",
   "language": "python",
   "name": "rulm-sbs2"
  },
  "language_info": {
   "codemirror_mode": {
    "name": "ipython",
    "version": 3
   },
   "file_extension": ".py",
   "mimetype": "text/x-python",
   "name": "python",
   "nbconvert_exporter": "python",
   "pygments_lexer": "ipython3",
   "version": "3.10.8"
  }
 },
 "nbformat": 4,
 "nbformat_minor": 5
}
