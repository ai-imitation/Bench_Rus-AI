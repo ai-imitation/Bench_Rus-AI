{
 "cells": [
  {
   "cell_type": "code",
   "execution_count": 137,
   "id": "ca94b2c7",
   "metadata": {},
   "outputs": [],
   "source": [
    "%run -n main.py\n",
    "dotenv = dict(read_dotenv('.env'))\n",
    "openai.api_key = dotenv['OPENAI_TOKEN']"
   ]
  },
  {
   "cell_type": "markdown",
   "id": "ede36217",
   "metadata": {
    "heading_collapsed": true
   },
   "source": [
    "# sources"
   ]
  },
  {
   "cell_type": "markdown",
   "id": "5a44e90d",
   "metadata": {
    "hidden": true
   },
   "source": [
    "## alpaca"
   ]
  },
  {
   "cell_type": "code",
   "execution_count": null,
   "id": "f16dabe3",
   "metadata": {
    "hidden": true
   },
   "outputs": [],
   "source": [
    "!mkdir -p data/sources/alpaca\n",
    "!curl -L https://github.com/yizhongw/self-instruct/raw/main/human_eval/user_oriented_instructions.jsonl \\\n",
    "    > data/sources/alpaca/user_oriented_instructions.jsonl"
   ]
  },
  {
   "cell_type": "code",
   "execution_count": null,
   "id": "d1fca385",
   "metadata": {
    "hidden": true
   },
   "outputs": [],
   "source": [
    "%run -n main.py\n",
    "items = read_jsonl('data/sources/alpaca/user_oriented_instructions.jsonl')\n",
    "alpaca_items = list(parse_alpaca(items))"
   ]
  },
  {
   "cell_type": "markdown",
   "id": "84aa473e",
   "metadata": {
    "hidden": true
   },
   "source": [
    "## vicuna"
   ]
  },
  {
   "cell_type": "code",
   "execution_count": null,
   "id": "b16051ba",
   "metadata": {
    "hidden": true
   },
   "outputs": [],
   "source": [
    "!mkdir -p data/sources/vicuna\n",
    "!curl -L https://github.com/lm-sys/vicuna-blog-eval/raw/main/eval/table/question.jsonl \\\n",
    "    > data/sources/vicuna/question.jsonl"
   ]
  },
  {
   "cell_type": "code",
   "execution_count": null,
   "id": "9bffdeb3",
   "metadata": {
    "hidden": true
   },
   "outputs": [],
   "source": [
    "%run -n main.py\n",
    "items = read_jsonl('data/sources/vicuna/question.jsonl')\n",
    "vicuna_items = list(parse_vicuna(items))"
   ]
  },
  {
   "cell_type": "markdown",
   "id": "0b97d2c4",
   "metadata": {
    "hidden": true
   },
   "source": [
    "## arena"
   ]
  },
  {
   "cell_type": "code",
   "execution_count": null,
   "id": "fa10145c",
   "metadata": {
    "hidden": true
   },
   "outputs": [],
   "source": [
    "!mkdir -p data/sources/arena\n",
    "!curl -L curl -L https://huggingface.co/datasets/lmsys/chatbot_arena_conversations/resolve/main/data/train-00000-of-00001-cced8514c7ed782a.parquet \\\n",
    "    > data/sources/arena/train-00000-of-00001-cced8514c7ed782a.parquet"
   ]
  },
  {
   "cell_type": "code",
   "execution_count": null,
   "id": "88246d9b",
   "metadata": {
    "hidden": true
   },
   "outputs": [],
   "source": [
    "%run -n main.py\n",
    "records = pd.read_parquet('data/sources/arena/train-00000-of-00001-cced8514c7ed782a.parquet').itertuples()\n",
    "arena_items = list(parse_arena(records))"
   ]
  },
  {
   "cell_type": "markdown",
   "id": "1c177f80",
   "metadata": {
    "heading_collapsed": true
   },
   "source": [
    "# orig"
   ]
  },
  {
   "cell_type": "code",
   "execution_count": null,
   "id": "42507178",
   "metadata": {
    "hidden": true
   },
   "outputs": [],
   "source": [
    "orig_items = alpaca_items + vicuna_items"
   ]
  },
  {
   "cell_type": "code",
   "execution_count": null,
   "id": "86f73172",
   "metadata": {
    "hidden": true
   },
   "outputs": [],
   "source": [
    "instruction_items = {\n",
    "    _['instruction']: _\n",
    "    for _ in arena_items\n",
    "    if _['lang'] == 'English'\n",
    "}\n",
    "orig_items.extend(random.sample(list(instruction_items.values()), 1000))"
   ]
  },
  {
   "cell_type": "code",
   "execution_count": null,
   "id": "672928a8",
   "metadata": {
    "hidden": true
   },
   "outputs": [],
   "source": [
    "write_jsonl('data/orig.jsonl', orig_items)"
   ]
  },
  {
   "cell_type": "code",
   "execution_count": 12,
   "id": "62b37138",
   "metadata": {
    "hidden": true
   },
   "outputs": [
    {
     "data": {
      "text/plain": [
       "[{'id': '6711af7d-4165-45e2-a45e-755c4eca5026',\n",
       "  'source': 'arena',\n",
       "  'source_id': '1ad24688c2a545e4b40be8c8f0129a8f',\n",
       "  'lang': 'English',\n",
       "  'instruction': 'convert movie to emoji : midnight express, shinning'},\n",
       " {'id': '418214b0-fdb9-4634-ad50-0701b1bab193',\n",
       "  'source': 'arena',\n",
       "  'source_id': 'ca5b0426f2ab48f6b0a82ddeace44480',\n",
       "  'lang': 'English',\n",
       "  'instruction': 'can you create me 3 music band name with that acronym: DIK and give a description'},\n",
       " {'id': '4d5561ff-d153-4f84-8def-8d15525e0013',\n",
       "  'source': 'alpaca',\n",
       "  'source_id': 'user_oriented_task_67',\n",
       "  'instruction': 'You should choose a YouTube video title based on the video\\'s content. A video\\'s title tells viewers what to expect from it. It should be direct, honest, and clear. The title of the video needs to capture the attention of viewers, so do not use an unclear or ambiguous one.\\n\\n\"A research study has been conducted to determine if exercise really can \"boost\" your metabolism.\"'},\n",
       " {'id': 'e96d61ad-7d3a-4fbf-b2b4-6709e51ecdbd',\n",
       "  'source': 'arena',\n",
       "  'source_id': 'c2c53cb3b033412998ac0f0a8a4d98ab',\n",
       "  'lang': 'English',\n",
       "  'instruction': 'What is the lowest number that contains the letter c.'},\n",
       " {'id': '7f17669f-4fa9-432e-9d21-cd32b640f3d4',\n",
       "  'source': 'vicuna',\n",
       "  'source_id': 48,\n",
       "  'category': 'fermi',\n",
       "  'instruction': 'How many pages are in all the books ever written? Try to explain your answer. Your explanation should take the reader through your reasoning step-by-step.'}]"
      ]
     },
     "execution_count": 12,
     "metadata": {},
     "output_type": "execute_result"
    }
   ],
   "source": [
    "orig_items = list(read_jsonl('data/orig.jsonl'))\n",
    "random.sample(orig_items, 5)"
   ]
  },
  {
   "cell_type": "markdown",
   "id": "0f2079d8",
   "metadata": {
    "heading_collapsed": true
   },
   "source": [
    "# translate"
   ]
  },
  {
   "cell_type": "code",
   "execution_count": null,
   "id": "21013408",
   "metadata": {
    "hidden": true
   },
   "outputs": [],
   "source": [
    "translate_items = [\n",
    "    {\n",
    "        'id': _['id'],\n",
    "        'instruction': _['instruction'],\n",
    "        'answer': None\n",
    "    }\n",
    "    for _ in orig_items\n",
    "]"
   ]
  },
  {
   "cell_type": "code",
   "execution_count": null,
   "id": "d27096d3",
   "metadata": {
    "hidden": true
   },
   "outputs": [],
   "source": [
    "%run -n main.py\n",
    "items = [_ for _ in translate_items if not _['answer']]\n",
    "queue = iter(tqdm(items))\n",
    "workers = [openai_translate_worker(queue) for _ in range(10)]\n",
    "await asyncio.gather(*workers);"
   ]
  },
  {
   "cell_type": "code",
   "execution_count": null,
   "id": "a4f6cd2e",
   "metadata": {
    "hidden": true
   },
   "outputs": [],
   "source": [
    "write_jsonl('data/translate.jsonl', translate_items)"
   ]
  },
  {
   "cell_type": "markdown",
   "id": "1a9159e5",
   "metadata": {},
   "source": [
    "# label studio"
   ]
  },
  {
   "cell_type": "code",
   "execution_count": null,
   "id": "39a4d4d9",
   "metadata": {},
   "outputs": [],
   "source": [
    "%run -n main.py\n",
    "label_studio = label_studio_sdk.Client('http://localhost:8080', dotenv['LABELSTUDIO_TOKEN'])\n",
    "label_studio.check_connection()"
   ]
  },
  {
   "cell_type": "code",
   "execution_count": null,
   "id": "ac14092a",
   "metadata": {},
   "outputs": [],
   "source": [
    "title_projects = {\n",
    "    _.title: _\n",
    "    for _ in label_studio.list_projects()\n",
    "}\n",
    "translate_project = title_projects['translate']\n",
    "classify_project = title_projects['classify']"
   ]
  },
  {
   "cell_type": "markdown",
   "id": "b50978c8",
   "metadata": {},
   "source": [
    "# translate annot"
   ]
  },
  {
   "cell_type": "code",
   "execution_count": null,
   "id": "e60b4061",
   "metadata": {},
   "outputs": [],
   "source": [
    "translate_items = read_jsonl('data/translate.jsonl')\n",
    "annot_items = [translate_annot_item(_) for _ in translate_items]\n",
    "random.choice(annot_items)"
   ]
  },
  {
   "cell_type": "code",
   "execution_count": null,
   "id": "8af21e7f",
   "metadata": {},
   "outputs": [],
   "source": [
    "translate_project.delete_all_tasks();\n",
    "translate_project.import_tasks(annot_items);"
   ]
  },
  {
   "cell_type": "code",
   "execution_count": null,
   "id": "a5763565",
   "metadata": {},
   "outputs": [],
   "source": [
    "annot_items = translate_project.export_tasks()\n",
    "translate_items = [annot_translate_item(_) for _ in annot_items]\n",
    "random.sample(translate_items, 3)"
   ]
  },
  {
   "cell_type": "code",
   "execution_count": null,
   "id": "ae799927",
   "metadata": {},
   "outputs": [],
   "source": [
    "write_jsonl('data/translate.jsonl', translate_items)"
   ]
  },
  {
   "cell_type": "markdown",
   "id": "80cfb55e",
   "metadata": {
    "heading_collapsed": true
   },
   "source": [
    "# classify"
   ]
  },
  {
   "cell_type": "code",
   "execution_count": null,
   "id": "263316d7",
   "metadata": {
    "hidden": true
   },
   "outputs": [],
   "source": [
    "%run -n main.py\n",
    "classify_items = list(read_jsonl('data/classify.jsonl'))\n",
    "id_embeddings = read_pickle('data/embeddings.pkl')"
   ]
  },
  {
   "cell_type": "code",
   "execution_count": null,
   "id": "35c9e158",
   "metadata": {
    "hidden": true
   },
   "outputs": [],
   "source": [
    "%run -n main.py\n",
    "items = [\n",
    "    _ for _ in classify_items\n",
    "    if _['id'] not in id_embeddings\n",
    "]\n",
    "for index in tqdm(range(0, len(items), 64)):\n",
    "    batch = items[index:index + 64]\n",
    "    texts = [_['instruction'] for _ in batch]\n",
    "    embeddings = openai_embed_batch(texts)\n",
    "    for item, embedding in zip(batch, embeddings):\n",
    "        id_embeddings[item['id']] = np.array(embedding)\n",
    "write_pickle('data/embeddings.pkl', id_embeddings)"
   ]
  },
  {
   "cell_type": "code",
   "execution_count": null,
   "id": "24754a41",
   "metadata": {
    "hidden": true
   },
   "outputs": [],
   "source": [
    "target_items = [\n",
    "    _ for _ in classify_items\n",
    "    if _['tags'] and 'bad instruction' not in _['tags']\n",
    "]\n",
    "items = [_ for _ in classify_items if not _['tags']]\n",
    "\n",
    "for item in tqdm(items):\n",
    "    max_sim = 0\n",
    "    for target_item in target_items:\n",
    "        sim = cosine_sim(\n",
    "            id_embeddings[item['id']],\n",
    "            id_embeddings[target_item['id']]\n",
    "        )\n",
    "        if sim > max_sim:\n",
    "            max_sim = sim\n",
    "            item['tags'] = target_item['tags']\n",
    "    item['max_sim'] = max_sim"
   ]
  },
  {
   "cell_type": "code",
   "execution_count": null,
   "id": "320535ad",
   "metadata": {
    "hidden": true
   },
   "outputs": [],
   "source": [
    "items = []\n",
    "for item in classify_items:\n",
    "    if not item.get('max_sim'):\n",
    "        continue\n",
    "        \n",
    "    if 'enumerate' not in item['tags']:\n",
    "        continue\n",
    "        \n",
    "    items.append(item)\n",
    "\n",
    "items = sorted(items, key=lambda _: _['max_sim'], reverse=False)\n",
    "annot_items = [classify_annot_item(_) for _ in items]\n",
    "len(annot_items)"
   ]
  },
  {
   "cell_type": "code",
   "execution_count": null,
   "id": "562d1120",
   "metadata": {
    "hidden": true
   },
   "outputs": [],
   "source": [
    "classify_project.delete_all_tasks();\n",
    "classify_project.import_tasks(annot_items);"
   ]
  },
  {
   "cell_type": "code",
   "execution_count": null,
   "id": "6061f33e",
   "metadata": {
    "hidden": true
   },
   "outputs": [],
   "source": [
    "%run -n main.py\n",
    "annot_items = classify_project.export_tasks()\n",
    "items = (annot_classify_item(_) for _ in annot_items)\n",
    "id_tags = {\n",
    "    _['id']: _['tags']\n",
    "    for _ in items\n",
    "}\n",
    "for item in classify_items:\n",
    "    tags = id_tags.get(item['id'])\n",
    "    if tags is not None:\n",
    "        item['tags'] = tags\n",
    "        item.pop('max_sim', None)"
   ]
  },
  {
   "cell_type": "code",
   "execution_count": null,
   "id": "7e51a7b4",
   "metadata": {
    "hidden": true
   },
   "outputs": [],
   "source": [
    "for item in classify_items:\n",
    "    if item.pop('max_sim', None):\n",
    "        item['tags'] = []\n",
    "write_jsonl('data/classify.jsonl', classify_items)"
   ]
  },
  {
   "cell_type": "markdown",
   "id": "40cd2b67",
   "metadata": {},
   "source": [
    "# tasks"
   ]
  },
  {
   "cell_type": "code",
   "execution_count": 13,
   "id": "7b3e243f",
   "metadata": {},
   "outputs": [
    {
     "data": {
      "text/plain": [
       "551"
      ]
     },
     "execution_count": 13,
     "metadata": {},
     "output_type": "execute_result"
    }
   ],
   "source": [
    "items = read_jsonl('data/classify.jsonl')\n",
    "id_tags = {_['id']: _['tags'] for _ in items if _['tags']}\n",
    "len(id_tags)"
   ]
  },
  {
   "cell_type": "code",
   "execution_count": 14,
   "id": "17b2c1df",
   "metadata": {},
   "outputs": [
    {
     "data": {
      "text/plain": [
       "1317"
      ]
     },
     "execution_count": 14,
     "metadata": {},
     "output_type": "execute_result"
    }
   ],
   "source": [
    "items = read_jsonl('data/orig.jsonl')\n",
    "id_sources = {_['id']: _['source'] for _ in items}\n",
    "len(id_sources)"
   ]
  },
  {
   "cell_type": "code",
   "execution_count": 16,
   "id": "7b4b690e",
   "metadata": {},
   "outputs": [],
   "source": [
    "task_items = []\n",
    "items = read_jsonl(f'data/translate.jsonl')\n",
    "for item in items:\n",
    "    id = item['id']\n",
    "    tags = id_tags.get(id, [])\n",
    "    if 'bad instruction' in tags:\n",
    "        continue\n",
    "\n",
    "    task_items.append({\n",
    "        'id': id,\n",
    "        'source': id_sources[id],\n",
    "        'instruction': item['answer'],\n",
    "        'tags': tags\n",
    "    })\n",
    "write_jsonl(f'data/tasks.jsonl', task_items)"
   ]
  },
  {
   "cell_type": "code",
   "execution_count": 12,
   "id": "f538cac9",
   "metadata": {},
   "outputs": [],
   "source": [
    "task_items = list(read_jsonl('data/tasks.jsonl'))"
   ]
  },
  {
   "cell_type": "code",
   "execution_count": 27,
   "id": "5e063e32",
   "metadata": {
    "scrolled": false
   },
   "outputs": [],
   "source": [
    "%run -n main.py\n",
    "source_items = defaultdict(list)\n",
    "for item in task_items:\n",
    "    source_items[item['source']].append(item)\n",
    "\n",
    "with open('data/tasks.md', 'w') as file:\n",
    "    with redirect_stdout(file):\n",
    "        for source in ['alpaca', 'vicuna', 'arena']:\n",
    "            print(f'<h1>{source}</h1>')\n",
    "\n",
    "            items = [_ for _ in source_items[source] if _['tags']]\n",
    "            for item in random.sample(items, 30):\n",
    "                print(' '.join(f'<code>#{_}</code>' for _ in item['tags']))\n",
    "                print('<br/>')\n",
    "                instruction = html.escape(item['instruction'])\n",
    "                print('<br/>\\n'.join(instruction.splitlines()))\n",
    "                print('<br/><br/>')"
   ]
  },
  {
   "cell_type": "markdown",
   "id": "8110788d",
   "metadata": {},
   "source": [
    "# infer"
   ]
  },
  {
   "cell_type": "code",
   "execution_count": 273,
   "id": "40127d71",
   "metadata": {},
   "outputs": [],
   "source": [
    "%run -n main.py\n",
    "infer_items = list(read_jsonl('data/infer.jsonl'))"
   ]
  },
  {
   "cell_type": "code",
   "execution_count": 279,
   "id": "47e693ee",
   "metadata": {},
   "outputs": [],
   "source": [
    "infer_items.extend(\n",
    "    {\n",
    "        'id': _['id'],\n",
    "        'model': 'yagpt_chat',\n",
    "        'instruction': _['instruction'],\n",
    "        'answer': None\n",
    "    }\n",
    "    for _ in task_items\n",
    ")"
   ]
  },
  {
   "cell_type": "code",
   "execution_count": 281,
   "id": "6028c555",
   "metadata": {},
   "outputs": [],
   "source": [
    "write_jsonl('data/infer.jsonl', infer_items)"
   ]
  },
  {
   "cell_type": "code",
   "execution_count": 294,
   "id": "806e4c13",
   "metadata": {
    "scrolled": false
   },
   "outputs": [
    {
     "name": "stdout",
     "output_type": "stream",
     "text": [
      "|items| = 834\n",
      "Напиши официальное письмо потенциальному деловому партнеру, предложи создать совместный бизнес?\n",
      "----\n",
      "Уважаемый [Имя партнера],\n",
      "\n",
      "Я хотел бы выразить свой интерес к созданию совместного бизнеса с вами. Я убежден, что наши знания и опыт могут быть объединены для достижения общих целей.\n",
      "\n",
      "Мы предлагаем рассмотреть возможность сотрудничества в [области/сфере деятельности], где мы можем предложить наши уникальные навыки и экспертизу. Мы готовы обсудить детали нашего возможного партнерства и предоставить дополнительную информацию о наших возможностях.\n",
      "\n",
      "Если вы заинтересованы в создании совместного бизнеса, пожалуйста, свяжитесь со мной для дальнейшего обсуждения. Я буду рад ответить на любые ваши вопросы и предоставить более подробную информацию.\n",
      "\n",
      "С уважением,\n",
      "[Ваше имя]\n",
      "---\n",
      "\n",
      "\n",
      "Напиши заявление об увольнении моему нынешнему работодателю, вырази благодарность за предоставленные возможности.\n",
      "----\n",
      "Уважаемый (имя работодателя),\n",
      "\n",
      "Я пишу, чтобы сообщить вам о своем решении уволиться с должности (название должности) в вашей компании. Я хотел бы выразить свою искреннюю благодарность за все возможности, которые вы предоставили мне за время моей работы здесь.\n",
      "\n",
      "За время моей работы я получил ценный опыт и знания, которые помогут мне в будущем. Я также благодарен за возможность работать в такой динамичной и инновационной компании.\n",
      "\n",
      "Однако, я принял решение уйти из-за личных обстоятельств, которые не позволяют мне продолжать работу здесь. Я надеюсь, что вы поймете мою ситуацию и отнесетесь к моему решению с уважением.\n",
      "\n",
      "Еще раз хочу поблагодарить вас за предоставленную возможность и пожелать вам успехов в будущем.\n",
      "\n",
      "С уважением,\n",
      "(Ваше имя)\n",
      "---\n",
      "\n",
      "\n",
      "Составь рекомендательное письмо для студента, который подает заявку на престижную программу магистратуры в области компьютерных наук.\n",
      "----\n",
      "Уважаемый профессор [имя],\n",
      "\n",
      "Я хотел бы выразить свою искреннюю благодарность за возможность подать заявку на вашу престижную программу по компьютерным наукам. Я уверен, что эта программа предоставит мне возможность получить знания и навыки, необходимые для достижения успеха в этой области.\n",
      "\n",
      "За время моего обучения в бакалавриате я приобрел значительный опыт работы с различными языками программирования, а также научился решать сложные задачи в области информационных технологий. Я также участвовал в различных проектах, связанных с разработкой программного обеспечения, и получил ценный опыт работы в команде.\n",
      "\n",
      "Моя мотивация для поступления на эту программу заключается в том, чтобы получить более глубокое понимание современных технологий и научиться применять их на практике. Я убежден, что ваша программа предоставит мне такую возможность.\n",
      "\n",
      "Будучи студентом, я стремлюсь к постоянному развитию своих навыков и знаний, поэтому я уверен, что ваше обучение будет способствовать моему профессиональному росту. Я готов усердно работать и учиться, чтобы достичь своих целей.\n",
      "\n",
      "С уважением,\n",
      "[Ваше имя]\n",
      "---\n",
      "\n",
      "\n",
      "Напиши письмо с объявлением о запуске продукта, для наших клиентов.\n",
      "----\n",
      "Уважаемые клиенты!\n",
      "\n",
      "Мы рады сообщить вам о запуске нашего нового продукта - [название продукта]. Этот продукт разработан специально для [целевой аудитории] и призван [описание преимуществ продукта].\n",
      "\n",
      "[Описание продукта] включает в себя [перечислить функции и возможности продукта]. Мы уверены, что этот продукт станет незаменимым помощником для вас и вашей работы.\n",
      "\n",
      "Чтобы получить дополнительную информацию о продукте, пожалуйста, свяжитесь с нами по телефону [номер телефона] или электронной почте [адрес электронной почты]. Мы будем рады ответить на все ваши вопросы и помочь вам начать использовать наш новый продукт.\n",
      "\n",
      "С уважением,\n",
      "[Ваше имя]\n",
      "---\n",
      "\n",
      "\n",
      "Отправь электронное письмо с извинениями клиенту, у которого произошла задержка с оформлением заказа, и заверьте, что проблема решена.\n",
      "----\n",
      "Уважаемый клиент,\n",
      "\n",
      "Мы приносим свои извинения за задержку с оформлением вашего заказа. Мы понимаем, что это могло вызвать неудобства и разочарование.\n",
      "\n",
      "К сожалению, в последнее время у нас было много заказов, и мы не смогли обработать ваш заказ вовремя. Мы прикладываем все усилия, чтобы решить эту проблему как можно скорее.\n",
      "\n",
      "Сейчас мы уже исправили ошибку и готовы оформить ваш заказ. Если у вас есть какие-либо вопросы или проблемы, пожалуйста, свяжитесь с нами.\n",
      "\n",
      "Еще раз приносим извинения за неудобства.\n",
      "\n",
      "С уважением, Команда [название компании]\n",
      "---\n",
      "\n",
      "\n",
      "Напиши сценарий для видеоролика на YouTube про джаз.\n",
      "----\n",
      "Название: \"Джаз: история и культура\"\n",
      "\n",
      "Сцена 1: (Открывается кадр с изображением джазового музыканта, играющего на саксофоне)\n",
      "\n",
      "Голос за кадром: Добро пожаловать на наш видеоролик о джазе! Джаз - это музыкальный жанр, который возник в конце 19 века в США и быстро стал популярным во всем мире. Сегодня джаз является одним из самых влиятельных и любимых музыкальных жанров.\n",
      "\n",
      "Сцена 2: (Изображение джазового оркестра, играющего в клубе)\n",
      "\n",
      "Голоса за кадром (синхронно): Джаз возник как смесь различных музыкальных стилей, таких как блюз, регтайм, свинг и другие. Он стал популярен благодаря своим уникальным ритмам, импровизации и эмоциональности. Джаз стал символом свободы и самовыражения, и его музыка продолжает вдохновлять людей по всему миру.\n",
      "\n",
      "Scene 3: (Кадр с изображением музыкантов, играющих на разных инструментах)\n",
      "\n",
      "Voice-over: Джаз включает в себя множество инструментов, включая саксофон, трубу, тромбон, фортепиано, гитару и другие. Каждый инструмент имеет свой уникальный звук и стиль игры, что делает джаз еще более разнообразным и интересным.\n",
      "\n",
      "Сцены 4-5: (Кадры с выступлениями джазовых музыкантов)\n",
      "\n",
      "Voices-over (синхронное): Джаз не только музыка, но и искусство. Музыканты могут создавать уникальные композиции, используя свои инструменты и голоса. Они также могут импровизировать на ходу, что добавляет еще больше энергии и эмоций в их выступления.\n",
      "\n",
      "Scenes 6-7: (Изображения джазовых клубов и концертов)\n",
      "\n",
      "Vocal-overs (синхронные): Джаз можно услышать не только на концертах, но и в клубах и барах по всему миру. Многие люди приходят на концерты джаза, чтобы насладиться его уникальной атмосферой и музыкой. Джаз продолжает оставаться популярным и вдохновляющим жанром, который не перестает удивлять и радовать своих поклонников.\n",
      "\n",
      "End: (Финальный кадр с надписью \"Спасибо за просмотр!\" и логотипом канала)\n",
      "---\n",
      "\n",
      "\n",
      "Напиши пост в блоге о поездке на Гавайи, расскажи о впечатлениях и обязательных к посещению достопримечательностях.\n",
      "----\n",
      "Привет! Я могу помочь тебе с написанием поста в блоге про поездку на Гавайские острова. Вот несколько идей для твоего поста:\n",
      "\n",
      "1. \"Гавайи - это рай на земле!\" - так можно начать свой пост. Расскажи о том, как ты провел время на Гавайях, какие впечатления у тебя остались от этого места.\n",
      "\n",
      "2. Обязательно расскажи о достопримечательностях, которые стоит посетить на Гавайских островах. Например, можно рассказать о знаменитом пляже Вайкики, о вулкане Килауэа, о национальном парке Халеакала и других местах, которые обязательно нужно посетить.\n",
      "\n",
      "3. Не забудь поделиться своими впечатлениями от местной кухни. Гавайская кухня славится своими морепродуктами и фруктами. Расскажи, что ты попробовал и какие блюда тебе понравились больше всего.\n",
      "\n",
      "4. Если у тебя есть фотографии из поездки, не забудь добавить их в свой пост. Это поможет читателям лучше представить себе, как выглядит Гавайский остров.\n",
      "\n",
      "5. В конце поста можно подвести итоги и поделиться своими мыслями о поездке. Что тебе понравилось больше всего, а что нет? Какие советы ты бы дал тем, кто собирается на Гавайскую поездку?\n",
      "\n",
      "Надеюсь, эти идеи помогут тебе написать интересный и полезный пост о своей поездке на Гаваи. Удачи!\n",
      "---\n",
      "\n",
      "\n",
      "Напиши рецензию на недавно вышедший научно-фантастический фильм, обсуди его сюжет, персонажей и спецэффекты.\n",
      "----\n",
      "Недавно вышедший фильм \"Интерстеллар\" (Interstellar) - это научно-фантастическая драма, которая рассказывает историю группы исследователей, которые отправляются в путешествие через космос, чтобы найти новую планету для жизни. Фильм получил множество положительных отзывов от критиков и зрителей, и стал одним из самых ожидаемых фильмов года.\n",
      "\n",
      "Сюжет фильма очень интересный и захватывающий. Группа исследователей отправляется в путешествие на космическом корабле, который должен пересечь огромную черную дыру, чтобы достичь другой планеты. По пути они сталкиваются с различными опасностями и препятствиями, но благодаря своей команде и технологиям, они преодолевают все трудности.\n",
      "\n",
      "Персонажи фильма также очень интересны. Главный герой, Купер, является ученым, который отправляется в это путешествие, чтобы спасти свою семью. Он обладает сильным характером и готов на все ради своих близких. Другие персонажи, такие как доктор Брандт и его дочь, также играют важную роль в фильме.\n",
      "\n",
      "Спецэффекты в фильме также заслуживают внимания. Они очень реалистичны и создают атмосферу научной фантастики. Особенно впечатляют сцены, где корабль проходит через черную дыру и другие космические объекты.\n",
      "\n",
      "В целом, фильм \"Интерстеллар\" - это отличный научно-фантастический триллер, который не оставит равнодушным ни одного зрителя. Он имеет интересный сюжет, ярких персонажей и красивые спецэффекты, что делает его одним из лучших фильмов этого жанра.\n",
      "---\n",
      "\n",
      "\n",
      "Составь сценарий подкаста для эпизода, в котором обсуждается влияние стриминговых платформ на музыкальную индустрию.\n",
      "----\n",
      "Ведущий: Здравствуйте, дорогие слушатели! Сегодня мы поговорим о том, как стриминговые платформы изменили музыкальную индустрию и как они повлияли на артистов и лейблы.\n",
      "\n",
      "Первый гость нашего подкаста - это [имя артиста], который является одним из самых популярных музыкантов на платформе [название платформы]. Он расскажет нам о своем опыте работы на этой платформе и о том, какие преимущества она предоставляет для артистов.\n",
      "\n",
      "Второй гость - это [имя лейбла], который представляет интересы многих артистов на [название платформы] и расскажет нам о том, какую роль играют стриминговые сервисы в развитии музыкальной индустрии.\n",
      "\n",
      "Ведущий: Спасибо нашим гостям за то, что они поделились своим опытом и мыслями о влиянии стриминговых сервисов на музыкальную индустрию! Мы надеемся, что этот подкаст будет полезен для всех, кто интересуется этой темой. До новых встреч!\n",
      "---\n",
      "\n",
      "\n",
      "Напиши рецензию на симфонический концерт, обсуди выступление оркестра и общее впечатление аудитории.\n",
      "----\n",
      "К сожалению, я не могу написать рецензию на конкретный симфонический концерт без дополнительной информации о нем. Однако, я могу поделиться общими рекомендациями для написания рецензии на концерт.\n",
      "\n",
      "1. Начните с описания места проведения концерта. Укажите название зала, его вместимость и особенности интерьера.\n",
      "2. Опишите оркестр, который выступал на концерте. Укажите количество музыкантов, их инструменты и уровень профессионализма.\n",
      "3. Расскажите о программе концерта. Упомяните названия произведений, которые исполнялись, и их авторов.\n",
      "4. Оцените выступление оркестра. Укажите, насколько слаженно музыканты играли, как они передавали эмоции и настроение музыки.\n",
      "5. Опишите общее впечатление от концерта. Отметьте, какие эмоции вы испытали во время прослушивания, и как музыка повлияла на ваше настроение.\n",
      "6. В заключение, выразите благодарность оркестру и организаторам концерта за возможность насладиться музыкой.\n",
      "7. Не забудьте указать дату, время и место проведения концерта, а также имена музыкантов и дирижера.\n",
      "---\n",
      "\n",
      "\n"
     ]
    }
   ],
   "source": [
    "items = [_ for _ in infer_items if _['model'] == 'yagpt_chat' and _['answer'] is not None]\n",
    "print('|items| =', len(items))\n",
    "\n",
    "# random.shuffle(items)\n",
    "for item in items[-10:]:\n",
    "    if item['answer']:\n",
    "        print(item['instruction'])\n",
    "        print('----')\n",
    "        print(item['answer'])\n",
    "        print('---\\n\\n')"
   ]
  },
  {
   "cell_type": "markdown",
   "id": "50c13ddd",
   "metadata": {},
   "source": [
    "## turbo"
   ]
  },
  {
   "cell_type": "code",
   "execution_count": null,
   "id": "28a2a0c1",
   "metadata": {},
   "outputs": [],
   "source": [
    "%run -n main.py\n",
    "items = [_ for _ in infer_items if _['answer'] is None and _['model'] == 'turbo_2']\n",
    "queue = iter(tqdm(items))\n",
    "workers = [openai_infer_worker(queue, model='gpt-3.5-turbo-0613') for _ in range(20)]\n",
    "await asyncio.gather(*workers);"
   ]
  },
  {
   "cell_type": "markdown",
   "id": "1bc58a7c",
   "metadata": {},
   "source": [
    "## gpt4"
   ]
  },
  {
   "cell_type": "code",
   "execution_count": null,
   "id": "10c3ec45",
   "metadata": {
    "scrolled": false
   },
   "outputs": [],
   "source": [
    "%run -n main.py\n",
    "items = [_ for _ in infer_items if _['answer'] is None and _['model'] == 'gpt4_2']\n",
    "queue = iter(tqdm(items))\n",
    "workers = [openai_infer_worker(queue, model='gpt-4-0613', request_timeout=1200) for _ in range(20)]\n",
    "await asyncio.gather(*workers);"
   ]
  },
  {
   "cell_type": "markdown",
   "id": "52431698",
   "metadata": {},
   "source": [
    "## gigachat"
   ]
  },
  {
   "cell_type": "code",
   "execution_count": 74,
   "id": "28a3165d",
   "metadata": {},
   "outputs": [],
   "source": [
    "%run -n main.py\n",
    "headers = dict(read_headers('.gigachat'))\n",
    "gigachat_client = gigachat_client_init(headers)\n",
    "\n",
    "# After ~5 min / 260 answers blocked for ~1 hour\n",
    "# {'result': 'rejected', 'reason': 'UserBlocked', 'user_blocked_until': '2023-08-25T11:00:24+00:00'}\n",
    "\n",
    "# \"в полуавтоматическом режиме банят, если 3 временных бана, то могут опять решить забанить насовсем.\n",
    "# Так что при временном бане лучше какое-то время  подождать.\"\n",
    "\n",
    "# \"из-за запросов типа \"Люди умирают, когда их убивают, откуда это высказывание?\". Цензор такое\n",
    "# отлавливает сколько-то раз и во временный бан отправляет\""
   ]
  },
  {
   "cell_type": "code",
   "execution_count": null,
   "id": "3acd6dd2",
   "metadata": {},
   "outputs": [],
   "source": [
    "%run -n main.py\n",
    "items = [_ for _ in infer_items if _['answer'] is None and _['model'] == 'gigachat']\n",
    "queue = iter(tqdm(items[:100]))\n",
    "workers = [gigachat_infer_worker(gigachat_client, queue) for _ in range(2)]\n",
    "await asyncio.gather(*workers);"
   ]
  },
  {
   "cell_type": "markdown",
   "id": "4e41f66e",
   "metadata": {},
   "source": [
    "## yagpt"
   ]
  },
  {
   "cell_type": "code",
   "execution_count": 162,
   "id": "660e6db9",
   "metadata": {},
   "outputs": [],
   "source": [
    "lines = !~/yandex-cloud/bin/yc iam create-token\n",
    "YAGPT_TOKEN = lines[0]\n",
    "\n",
    "lines = !~/yandex-cloud/bin/yc resource-manager folder get --name default --format json\n",
    "data = json.loads(''.join(lines))\n",
    "YAGPT_FOLDER_ID = data['id']\n",
    "\n",
    "# token expires every ~12 hours"
   ]
  },
  {
   "cell_type": "code",
   "execution_count": null,
   "id": "6e4f335f",
   "metadata": {},
   "outputs": [],
   "source": [
    "%run -n main.py\n",
    "yagpt_client = yagpt_client_init(YAGPT_TOKEN, YAGPT_FOLDER_ID)"
   ]
  },
  {
   "cell_type": "code",
   "execution_count": null,
   "id": "087eb65f",
   "metadata": {},
   "outputs": [],
   "source": [
    "%run -n main.py\n",
    "items = [_ for _ in infer_items if _['answer'] is None and _['model'] == 'yagpt_instruct']\n",
    "queue = iter(tqdm(items))\n",
    "limiter = Limiter(min_delay=1.2)\n",
    "workers = [yagpt_infer_worker(yagpt_client, limiter, queue, mode='instruct') for _ in range(5)]\n",
    "await asyncio.gather(*workers);"
   ]
  },
  {
   "cell_type": "code",
   "execution_count": null,
   "id": "12d654de",
   "metadata": {},
   "outputs": [],
   "source": [
    "%run -n main.py\n",
    "items = [_ for _ in infer_items if _['answer'] is None and _['model'] == 'yagpt_chat']\n",
    "queue = iter(tqdm(items))\n",
    "limiter = Limiter(min_delay=1.2)\n",
    "workers = [yagpt_infer_worker(yagpt_client, limiter, queue, mode='chat') for _ in range(5)]\n",
    "await asyncio.gather(*workers);"
   ]
  },
  {
   "cell_type": "code",
   "execution_count": null,
   "id": "81bea6ae",
   "metadata": {},
   "outputs": [],
   "source": []
  }
 ],
 "metadata": {
  "kernelspec": {
   "display_name": "rulm-sbs2",
   "language": "python",
   "name": "rulm-sbs2"
  },
  "language_info": {
   "codemirror_mode": {
    "name": "ipython",
    "version": 3
   },
   "file_extension": ".py",
   "mimetype": "text/x-python",
   "name": "python",
   "nbconvert_exporter": "python",
   "pygments_lexer": "ipython3",
   "version": "3.10.8"
  }
 },
 "nbformat": 4,
 "nbformat_minor": 5
}
