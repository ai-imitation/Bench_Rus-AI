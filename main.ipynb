{
 "cells": [
  {
   "cell_type": "code",
   "execution_count": 18,
   "id": "dfc69fdf",
   "metadata": {},
   "outputs": [],
   "source": [
    "%run -n main.py\n",
    "dotenv = dict(read_dotenv('.env'))\n",
    "openai.api_key = dotenv['OPENAI_TOKEN']"
   ]
  },
  {
   "cell_type": "markdown",
   "id": "f9e2e9bd",
   "metadata": {},
   "source": [
    "# sources"
   ]
  },
  {
   "cell_type": "markdown",
   "id": "a37f3058",
   "metadata": {},
   "source": [
    "## alpaca"
   ]
  },
  {
   "cell_type": "code",
   "execution_count": null,
   "id": "3397f05e",
   "metadata": {},
   "outputs": [],
   "source": [
    "!mkdir -p data/sources/alpaca\n",
    "!curl -L https://github.com/yizhongw/self-instruct/raw/main/human_eval/user_oriented_instructions.jsonl \\\n",
    "    > data/sources/alpaca/user_oriented_instructions.jsonl"
   ]
  },
  {
   "cell_type": "code",
   "execution_count": 99,
   "id": "92dfbd74",
   "metadata": {},
   "outputs": [
    {
     "data": {
      "text/plain": [
       "[{'id': '7610be0f-8237-4035-96a8-5820219d619e',\n",
       "  'source': 'alpaca',\n",
       "  'source_id': 'user_oriented_task_224',\n",
       "  'instruction': 'Convert natural language into a list of turn-by-turn directions.\\n\\n\"Go west on I-10 until you hit the 101 then take it north. You will eventually see the Hollywood sign.\"'},\n",
       " {'id': 'a58bfb9a-4f0d-4330-8154-4afd17d573c6',\n",
       "  'source': 'alpaca',\n",
       "  'source_id': 'user_oriented_task_238',\n",
       "  'instruction': 'Categorize the given product into one of Electronics, Computers, Smart Home, or Arts & Crafts departments.\\n\\n\"Google Nest Learning Thermostat\"'},\n",
       " {'id': '63ce006e-7056-46cd-842b-3615c2d8317b',\n",
       "  'source': 'alpaca',\n",
       "  'source_id': 'user_oriented_task_104',\n",
       "  'instruction': 'List the personality traits that are required to be successful in the given job.\\n\\n\"Social Media Marketer\"'}]"
      ]
     },
     "execution_count": 99,
     "metadata": {},
     "output_type": "execute_result"
    }
   ],
   "source": [
    "%run -n main.py\n",
    "items = read_jsonl('data/sources/alpaca/user_oriented_instructions.jsonl')\n",
    "alpaca_items = list(parse_alpaca(items))\n",
    "random.sample(alpaca_items, 3)"
   ]
  },
  {
   "cell_type": "markdown",
   "id": "6525bef2",
   "metadata": {},
   "source": [
    "## vicuna"
   ]
  },
  {
   "cell_type": "code",
   "execution_count": null,
   "id": "115aa035",
   "metadata": {},
   "outputs": [],
   "source": [
    "!mkdir -p data/sources/vicuna\n",
    "!curl -L https://github.com/lm-sys/vicuna-blog-eval/raw/main/eval/table/question.jsonl \\\n",
    "    > data/sources/vicuna/question.jsonl"
   ]
  },
  {
   "cell_type": "code",
   "execution_count": 100,
   "id": "23efea8b",
   "metadata": {},
   "outputs": [
    {
     "data": {
      "text/plain": [
       "[{'id': '2aea7930-c299-4be5-aad4-048d669c231d',\n",
       "  'source': 'vicuna',\n",
       "  'source_id': 53,\n",
       "  'category': 'counterfactual',\n",
       "  'instruction': 'What if the Black Death had not occurred in the 14th century?'},\n",
       " {'id': '5b49aa61-1300-495a-ac10-1d88a3186939',\n",
       "  'source': 'vicuna',\n",
       "  'source_id': 73,\n",
       "  'category': 'writing',\n",
       "  'instruction': 'Use an appropriate format to structure a formal letter of recommendation for a student applying to a prestigious graduate program in computer science.'},\n",
       " {'id': '7c08ea72-8c64-4b93-9bde-445f20dbe3b1',\n",
       "  'source': 'vicuna',\n",
       "  'source_id': 57,\n",
       "  'category': 'counterfactual',\n",
       "  'instruction': 'What if the Suez Canal had never been constructed?'}]"
      ]
     },
     "execution_count": 100,
     "metadata": {},
     "output_type": "execute_result"
    }
   ],
   "source": [
    "%run -n main.py\n",
    "items = read_jsonl('data/sources/vicuna/question.jsonl')\n",
    "vicuna_items = list(parse_vicuna(items))\n",
    "random.sample(vicuna_items, 3)"
   ]
  },
  {
   "cell_type": "markdown",
   "id": "8e8fc368",
   "metadata": {},
   "source": [
    "## arena"
   ]
  },
  {
   "cell_type": "code",
   "execution_count": null,
   "id": "366980f9",
   "metadata": {},
   "outputs": [],
   "source": [
    "!mkdir -p data/sources/arena\n",
    "!curl -L curl -L https://huggingface.co/datasets/lmsys/chatbot_arena_conversations/resolve/main/data/train-00000-of-00001-cced8514c7ed782a.parquet \\\n",
    "    > data/sources/arena/train-00000-of-00001-cced8514c7ed782a.parquet"
   ]
  },
  {
   "cell_type": "code",
   "execution_count": 115,
   "id": "35f07462",
   "metadata": {},
   "outputs": [
    {
     "data": {
      "text/plain": [
       "[{'id': 'd843ac4a-4b59-4b4f-bc3e-d6de101a7953',\n",
       "  'source': 'arena',\n",
       "  'source_id': '924c59203b4e4aeea5e627011da0b283',\n",
       "  'lang': 'English',\n",
       "  'instruction': 'what are hybrid text classification methods?'},\n",
       " {'id': '584f5fa3-37cc-44b4-bf28-dc2dd7e71682',\n",
       "  'source': 'arena',\n",
       "  'source_id': '37c2c4edb3b14e49b5920613d9b6befe',\n",
       "  'lang': 'English',\n",
       "  'instruction': 'What strains of cannabis have been reported by individuals with borderline personality disorder as preferable or effective in the management of their symptoms?'},\n",
       " {'id': 'bea19674-14cd-4996-a350-d68d2d0c0317',\n",
       "  'source': 'arena',\n",
       "  'source_id': '2005e97ef88246468f890495101550ea',\n",
       "  'lang': 'English',\n",
       "  'instruction': 'How big is the Eiffeltower?'}]"
      ]
     },
     "execution_count": 115,
     "metadata": {},
     "output_type": "execute_result"
    }
   ],
   "source": [
    "%run -n main.py\n",
    "records = pd.read_parquet('data/sources/arena/train-00000-of-00001-cced8514c7ed782a.parquet').itertuples()\n",
    "arena_items = list(parse_arena(records))\n",
    "random.sample(arena_items, 3)"
   ]
  },
  {
   "cell_type": "markdown",
   "id": "5c3e2b29",
   "metadata": {},
   "source": [
    "# orig"
   ]
  },
  {
   "cell_type": "code",
   "execution_count": 116,
   "id": "dd58f61c",
   "metadata": {},
   "outputs": [],
   "source": [
    "!mkdir -p data/orig"
   ]
  },
  {
   "cell_type": "code",
   "execution_count": 117,
   "id": "c25da0e6",
   "metadata": {},
   "outputs": [],
   "source": [
    "write_jsonl('data/orig/alpaca.jsonl', alpaca_items)\n",
    "write_jsonl('data/orig/vicuna.jsonl', vicuna_items)"
   ]
  },
  {
   "cell_type": "code",
   "execution_count": 122,
   "id": "16f33bbe",
   "metadata": {},
   "outputs": [],
   "source": [
    "instruction_items = {\n",
    "    _['instruction']: _\n",
    "    for _ in arena_items\n",
    "    if _['lang'] == 'English'\n",
    "}\n",
    "items = random.sample(list(instruction_items.values()), 1000)\n",
    "write_jsonl('data/orig/arena.jsonl', items)"
   ]
  },
  {
   "cell_type": "code",
   "execution_count": 124,
   "id": "c4f2d615",
   "metadata": {},
   "outputs": [],
   "source": [
    "alpaca_items = list(read_jsonl('data/orig/alpaca.jsonl'))\n",
    "vicuna_items = list(read_jsonl('data/orig/vicuna.jsonl'))\n",
    "arena_items = list(read_jsonl('data/orig/arena.jsonl'))"
   ]
  },
  {
   "cell_type": "markdown",
   "id": "b4ede0b7",
   "metadata": {},
   "source": [
    "# translate"
   ]
  },
  {
   "cell_type": "code",
   "execution_count": 178,
   "id": "3c849ef2",
   "metadata": {},
   "outputs": [],
   "source": [
    "translate_items = [\n",
    "    {\n",
    "        'id': _['id'],\n",
    "        'instruction': _['instruction'],\n",
    "        'answer': None\n",
    "    }\n",
    "    for _ in vicuna_items\n",
    "]"
   ]
  },
  {
   "cell_type": "code",
   "execution_count": 175,
   "id": "466bd783",
   "metadata": {},
   "outputs": [
    {
     "name": "stderr",
     "output_type": "stream",
     "text": [
      "100%|██████████| 156/156 [01:07<00:00,  2.30it/s]\n"
     ]
    }
   ],
   "source": [
    "%run -n main.py\n",
    "items = [_ for _ in translate_items if not _['answer']]\n",
    "queue = iter(tqdm(items))\n",
    "workers = [openai_translate_worker(queue) for _ in range(10)]\n",
    "await asyncio.gather(*workers);"
   ]
  },
  {
   "cell_type": "code",
   "execution_count": 188,
   "id": "83970596",
   "metadata": {},
   "outputs": [],
   "source": [
    "!mkdir -p data/translate\n",
    "write_jsonl('data/translate/vicuna.jsonl', translate_items)"
   ]
  },
  {
   "cell_type": "markdown",
   "id": "2bdff9e1",
   "metadata": {},
   "source": [
    "# label studio"
   ]
  },
  {
   "cell_type": "code",
   "execution_count": 19,
   "id": "218fad7c",
   "metadata": {},
   "outputs": [
    {
     "data": {
      "text/plain": [
       "{'status': 'UP'}"
      ]
     },
     "execution_count": 19,
     "metadata": {},
     "output_type": "execute_result"
    }
   ],
   "source": [
    "%run -n main.py\n",
    "label_studio = label_studio_sdk.Client('http://localhost:8080', dotenv['LABELSTUDIO_TOKEN'])\n",
    "label_studio.check_connection()"
   ]
  },
  {
   "cell_type": "code",
   "execution_count": 20,
   "id": "b40e1589",
   "metadata": {},
   "outputs": [],
   "source": [
    "title_projects = {\n",
    "    _.title: _\n",
    "    for _ in label_studio.list_projects()\n",
    "}\n",
    "translate_project = title_projects['translate']\n",
    "classify_project = title_projects['classify']"
   ]
  },
  {
   "cell_type": "markdown",
   "id": "6949c405",
   "metadata": {},
   "source": [
    "# translate annot"
   ]
  },
  {
   "cell_type": "code",
   "execution_count": 185,
   "id": "e9b0f039",
   "metadata": {},
   "outputs": [
    {
     "data": {
      "text/plain": [
       "{'data': {'id': '2f6ac785-de76-4cb3-8d97-ad4a43aa1a22',\n",
       "  'instruction': 'You need to write an email to negotiate your salary.'},\n",
       " 'predictions': [{'result': [{'from_name': 'answer',\n",
       "     'to_name': 'instruction',\n",
       "     'type': 'textarea',\n",
       "     'value': {'text': ['Напиши письмо, попроси прибавку к зарплате.']}}]}]}"
      ]
     },
     "execution_count": 185,
     "metadata": {},
     "output_type": "execute_result"
    }
   ],
   "source": [
    "translate_items = read_jsonl('data/translate/alpaca.jsonl')\n",
    "annot_items = [translate_annot_item(_) for _ in translate_items]\n",
    "random.choice(annot_items)"
   ]
  },
  {
   "cell_type": "code",
   "execution_count": 21,
   "id": "7b5fe483",
   "metadata": {},
   "outputs": [],
   "source": [
    "translate_project.delete_all_tasks();\n",
    "translate_project.import_tasks(annot_items);"
   ]
  },
  {
   "cell_type": "code",
   "execution_count": 27,
   "id": "b160b8ae",
   "metadata": {},
   "outputs": [
    {
     "data": {
      "text/plain": [
       "[{'id': '20496e66-cfbe-4237-b2f0-0f5e93e5588a',\n",
       "  'instruction': 'What is the distance in km between Sydney and Lagos?',\n",
       "  'answer': 'Каково расстояние в километрах между Сиднеем и Лагосом?'},\n",
       " {'id': '5ab615f9-0183-487d-aad2-064d02fbf6c3',\n",
       "  'instruction': 'What is the average Ph of a soft drink:',\n",
       "  'answer': 'Каково среднее значение pH газировки?'},\n",
       " {'id': '275458f1-13bd-41aa-a980-75eea737a26e',\n",
       "  'instruction': 'Are capable of converting Rust code into python script ?',\n",
       "  'answer': 'Ты умеешь преобразовывать код на Rust в скрипт на Python?'}]"
      ]
     },
     "execution_count": 27,
     "metadata": {},
     "output_type": "execute_result"
    }
   ],
   "source": [
    "annot_items = translate_project.export_tasks()\n",
    "translate_items = [annot_translate_item(_) for _ in annot_items]\n",
    "random.sample(translate_items, 3)"
   ]
  },
  {
   "cell_type": "code",
   "execution_count": null,
   "id": "4b114d73",
   "metadata": {},
   "outputs": [],
   "source": [
    "write_jsonl('data/translate/alpaca.jsonl', translate_items)"
   ]
  },
  {
   "cell_type": "markdown",
   "id": "6cfc26e7",
   "metadata": {},
   "source": [
    "# classify"
   ]
  },
  {
   "cell_type": "code",
   "execution_count": 214,
   "id": "8061c1bf",
   "metadata": {},
   "outputs": [],
   "source": [
    "%run -n main.py\n",
    "classify_items = list(read_jsonl('data/classify/items.jsonl'))\n",
    "id_embeddings = read_pickle('data/classify/embeddings.pkl')"
   ]
  },
  {
   "cell_type": "code",
   "execution_count": 215,
   "id": "b8d84cee",
   "metadata": {},
   "outputs": [
    {
     "name": "stderr",
     "output_type": "stream",
     "text": [
      "0it [00:00, ?it/s]\n"
     ]
    }
   ],
   "source": [
    "%run -n main.py\n",
    "items = [\n",
    "    _ for _ in classify_items\n",
    "    if _['id'] not in id_embeddings\n",
    "]\n",
    "for index in tqdm(range(0, len(items), 64)):\n",
    "    batch = items[index:index + 64]\n",
    "    texts = [_['instruction'] for _ in batch]\n",
    "    embeddings = openai_embed_batch(texts)\n",
    "    for item, embedding in zip(batch, embeddings):\n",
    "        id_embeddings[item['id']] = np.array(embedding)\n",
    "\n",
    "write_pickle('data/classify/embeddings.pkl', id_embeddings)"
   ]
  },
  {
   "cell_type": "code",
   "execution_count": 216,
   "id": "5ae32838",
   "metadata": {},
   "outputs": [
    {
     "name": "stderr",
     "output_type": "stream",
     "text": [
      "100%|██████████| 394/394 [00:00<00:00, 424.85it/s]\n"
     ]
    }
   ],
   "source": [
    "target_items = [\n",
    "    _ for _ in classify_items\n",
    "    if _['tags'] and 'bad instruction' not in _['tags']\n",
    "]\n",
    "items = [_ for _ in classify_items if not _['tags']]\n",
    "\n",
    "for item in tqdm(items):\n",
    "    max_sim = 0\n",
    "    for target_item in target_items:\n",
    "        sim = cosine_sim(\n",
    "            id_embeddings[item['id']],\n",
    "            id_embeddings[target_item['id']]\n",
    "        )\n",
    "        if sim > max_sim:\n",
    "            max_sim = sim\n",
    "            item['tags'] = target_item['tags']\n",
    "    item['max_sim'] = max_sim"
   ]
  },
  {
   "cell_type": "code",
   "execution_count": 218,
   "id": "15942ff4",
   "metadata": {},
   "outputs": [],
   "source": [
    "ids = {_['id'] for _ in read_jsonl('data/translate/alpaca.jsonl')}\n"
   ]
  },
  {
   "cell_type": "code",
   "execution_count": 220,
   "id": "93f053c4",
   "metadata": {},
   "outputs": [
    {
     "data": {
      "text/plain": [
       "131"
      ]
     },
     "execution_count": 220,
     "metadata": {},
     "output_type": "execute_result"
    }
   ],
   "source": [
    "items = []\n",
    "for item in classify_items:\n",
    "    if not item.get('max_sim'):\n",
    "        continue\n",
    "        \n",
    "#     if 'enumerate' not in item['tags']:\n",
    "#         continue\n",
    "        \n",
    "    if item['id'] not in ids:\n",
    "        continue\n",
    "\n",
    "    items.append(item)\n",
    "\n",
    "# items = sorted(items, key=lambda _: _['max_sim'], reverse=False)\n",
    "annot_items = [classify_annot_item(_) for _ in items]\n",
    "len(annot_items)"
   ]
  },
  {
   "cell_type": "code",
   "execution_count": 221,
   "id": "6163aa61",
   "metadata": {},
   "outputs": [],
   "source": [
    "classify_project.delete_all_tasks();\n",
    "classify_project.import_tasks(annot_items);"
   ]
  },
  {
   "cell_type": "code",
   "execution_count": 222,
   "id": "7c43ec01",
   "metadata": {},
   "outputs": [],
   "source": [
    "%run -n main.py\n",
    "annot_items = classify_project.export_tasks()\n",
    "items = (annot_classify_item(_) for _ in annot_items)\n",
    "id_tags = {\n",
    "    _['id']: _['tags']\n",
    "    for _ in items\n",
    "}\n",
    "for item in classify_items:\n",
    "    tags = id_tags.get(item['id'])\n",
    "    if tags is not None:\n",
    "        item['tags'] = tags\n",
    "        item.pop('max_sim', None)"
   ]
  },
  {
   "cell_type": "code",
   "execution_count": 223,
   "id": "93682643",
   "metadata": {},
   "outputs": [],
   "source": [
    "!mkdir -p data/classify\n",
    "for item in classify_items:\n",
    "    if item.pop('max_sim', None):\n",
    "        item['tags'] = []\n",
    "\n",
    "write_jsonl('data/classify/items.jsonl', classify_items)"
   ]
  },
  {
   "cell_type": "markdown",
   "id": "dbafa854",
   "metadata": {},
   "source": [
    "# tasks"
   ]
  },
  {
   "cell_type": "code",
   "execution_count": 210,
   "id": "e79ca126",
   "metadata": {},
   "outputs": [
    {
     "data": {
      "text/plain": [
       "474"
      ]
     },
     "execution_count": 210,
     "metadata": {},
     "output_type": "execute_result"
    }
   ],
   "source": [
    "items = read_jsonl('data/classify/items.jsonl')\n",
    "id_tags = {_['id']: _['tags'] for _ in items if _['tags']}\n",
    "len(id_tags)"
   ]
  },
  {
   "cell_type": "code",
   "execution_count": 211,
   "id": "3ffa23d0",
   "metadata": {},
   "outputs": [],
   "source": [
    "!mkdir -p data/tasks\n",
    "\n",
    "for name in ['alpaca', 'vicuna', 'arena']:\n",
    "    task_items = []\n",
    "    items = read_jsonl(f'data/translate/{name}.jsonl')\n",
    "    for item in items:\n",
    "        id = item['id']\n",
    "        tags = id_tags.get(id, [])\n",
    "        if 'bad instruction' in tags:\n",
    "            continue\n",
    "\n",
    "        task_items.append({\n",
    "            'id': id,\n",
    "            'instruction': item['answer'],\n",
    "            'tags': tags\n",
    "        })\n",
    "    write_jsonl(f'data/tasks/{name}.jsonl', task_items)"
   ]
  },
  {
   "cell_type": "code",
   "execution_count": 202,
   "id": "ec95138a",
   "metadata": {
    "scrolled": false
   },
   "outputs": [],
   "source": [
    "from contextlib import redirect_stdout\n",
    "from html import escape\n",
    "\n",
    "with open('data/tasks/README.md', 'w') as file:\n",
    "    with redirect_stdout(file):\n",
    "        for name in ['alpaca', 'vicuna', 'arena']:\n",
    "            print(f'<h1>{name}</h1>')\n",
    "\n",
    "            items = read_jsonl(f'data/tasks/{name}.jsonl')\n",
    "            items = [_ for _ in items if _['tags']]\n",
    "\n",
    "            for item in random.sample(items, 30):\n",
    "                print(' '.join(f'<code>#{_}</code>' for _ in item['tags']))\n",
    "                print('<br/>')\n",
    "                instruction = escape(item['instruction'])\n",
    "                print('<br/>\\n'.join(instruction.splitlines()))\n",
    "                print('<br/><br/>')"
   ]
  },
  {
   "cell_type": "code",
   "execution_count": null,
   "id": "dc688ed5",
   "metadata": {},
   "outputs": [],
   "source": []
  }
 ],
 "metadata": {
  "kernelspec": {
   "display_name": "rulm-sbs2",
   "language": "python",
   "name": "rulm-sbs2"
  },
  "language_info": {
   "codemirror_mode": {
    "name": "ipython",
    "version": 3
   },
   "file_extension": ".py",
   "mimetype": "text/x-python",
   "name": "python",
   "nbconvert_exporter": "python",
   "pygments_lexer": "ipython3",
   "version": "3.10.8"
  }
 },
 "nbformat": 4,
 "nbformat_minor": 5
}
